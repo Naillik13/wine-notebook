{
 "cells": [
  {
   "cell_type": "code",
   "execution_count": 1,
   "metadata": {},
   "outputs": [],
   "source": [
    "import numpy as np\n",
    "import pandas as pd\n",
    "import matplotlib.pyplot as plt\n",
    "import seaborn as sns"
   ]
  },
  {
   "cell_type": "markdown",
   "metadata": {},
   "source": [
    "# Lecture du csv"
   ]
  },
  {
   "cell_type": "code",
   "execution_count": 2,
   "metadata": {},
   "outputs": [],
   "source": [
    "df = pd.read_csv(\"./winequality-red.csv\")"
   ]
  },
  {
   "cell_type": "code",
   "execution_count": 3,
   "metadata": {
    "scrolled": true
   },
   "outputs": [
    {
     "data": {
      "text/html": [
       "<div>\n",
       "<style scoped>\n",
       "    .dataframe tbody tr th:only-of-type {\n",
       "        vertical-align: middle;\n",
       "    }\n",
       "\n",
       "    .dataframe tbody tr th {\n",
       "        vertical-align: top;\n",
       "    }\n",
       "\n",
       "    .dataframe thead th {\n",
       "        text-align: right;\n",
       "    }\n",
       "</style>\n",
       "<table border=\"1\" class=\"dataframe\">\n",
       "  <thead>\n",
       "    <tr style=\"text-align: right;\">\n",
       "      <th></th>\n",
       "      <th>fixed acidity</th>\n",
       "      <th>volatile acidity</th>\n",
       "      <th>citric acid</th>\n",
       "      <th>residual sugar</th>\n",
       "      <th>chlorides</th>\n",
       "      <th>free sulfur dioxide</th>\n",
       "      <th>total sulfur dioxide</th>\n",
       "      <th>density</th>\n",
       "      <th>pH</th>\n",
       "      <th>sulphates</th>\n",
       "      <th>alcohol</th>\n",
       "      <th>quality</th>\n",
       "    </tr>\n",
       "  </thead>\n",
       "  <tbody>\n",
       "    <tr>\n",
       "      <th>0</th>\n",
       "      <td>7.4</td>\n",
       "      <td>0.70</td>\n",
       "      <td>0.00</td>\n",
       "      <td>1.9</td>\n",
       "      <td>0.076</td>\n",
       "      <td>11.0</td>\n",
       "      <td>34.0</td>\n",
       "      <td>0.9978</td>\n",
       "      <td>3.51</td>\n",
       "      <td>0.56</td>\n",
       "      <td>9.4</td>\n",
       "      <td>5</td>\n",
       "    </tr>\n",
       "    <tr>\n",
       "      <th>1</th>\n",
       "      <td>7.8</td>\n",
       "      <td>0.88</td>\n",
       "      <td>0.00</td>\n",
       "      <td>2.6</td>\n",
       "      <td>0.098</td>\n",
       "      <td>25.0</td>\n",
       "      <td>67.0</td>\n",
       "      <td>0.9968</td>\n",
       "      <td>3.20</td>\n",
       "      <td>0.68</td>\n",
       "      <td>9.8</td>\n",
       "      <td>5</td>\n",
       "    </tr>\n",
       "    <tr>\n",
       "      <th>2</th>\n",
       "      <td>7.8</td>\n",
       "      <td>0.76</td>\n",
       "      <td>0.04</td>\n",
       "      <td>2.3</td>\n",
       "      <td>0.092</td>\n",
       "      <td>15.0</td>\n",
       "      <td>54.0</td>\n",
       "      <td>0.9970</td>\n",
       "      <td>3.26</td>\n",
       "      <td>0.65</td>\n",
       "      <td>9.8</td>\n",
       "      <td>5</td>\n",
       "    </tr>\n",
       "    <tr>\n",
       "      <th>3</th>\n",
       "      <td>11.2</td>\n",
       "      <td>0.28</td>\n",
       "      <td>0.56</td>\n",
       "      <td>1.9</td>\n",
       "      <td>0.075</td>\n",
       "      <td>17.0</td>\n",
       "      <td>60.0</td>\n",
       "      <td>0.9980</td>\n",
       "      <td>3.16</td>\n",
       "      <td>0.58</td>\n",
       "      <td>9.8</td>\n",
       "      <td>6</td>\n",
       "    </tr>\n",
       "    <tr>\n",
       "      <th>4</th>\n",
       "      <td>7.4</td>\n",
       "      <td>0.70</td>\n",
       "      <td>0.00</td>\n",
       "      <td>1.9</td>\n",
       "      <td>0.076</td>\n",
       "      <td>11.0</td>\n",
       "      <td>34.0</td>\n",
       "      <td>0.9978</td>\n",
       "      <td>3.51</td>\n",
       "      <td>0.56</td>\n",
       "      <td>9.4</td>\n",
       "      <td>5</td>\n",
       "    </tr>\n",
       "  </tbody>\n",
       "</table>\n",
       "</div>"
      ],
      "text/plain": [
       "   fixed acidity  volatile acidity  citric acid  residual sugar  chlorides  \\\n",
       "0            7.4              0.70         0.00             1.9      0.076   \n",
       "1            7.8              0.88         0.00             2.6      0.098   \n",
       "2            7.8              0.76         0.04             2.3      0.092   \n",
       "3           11.2              0.28         0.56             1.9      0.075   \n",
       "4            7.4              0.70         0.00             1.9      0.076   \n",
       "\n",
       "   free sulfur dioxide  total sulfur dioxide  density    pH  sulphates  \\\n",
       "0                 11.0                  34.0   0.9978  3.51       0.56   \n",
       "1                 25.0                  67.0   0.9968  3.20       0.68   \n",
       "2                 15.0                  54.0   0.9970  3.26       0.65   \n",
       "3                 17.0                  60.0   0.9980  3.16       0.58   \n",
       "4                 11.0                  34.0   0.9978  3.51       0.56   \n",
       "\n",
       "   alcohol  quality  \n",
       "0      9.4        5  \n",
       "1      9.8        5  \n",
       "2      9.8        5  \n",
       "3      9.8        6  \n",
       "4      9.4        5  "
      ]
     },
     "execution_count": 3,
     "metadata": {},
     "output_type": "execute_result"
    }
   ],
   "source": [
    "df.head()"
   ]
  },
  {
   "cell_type": "markdown",
   "metadata": {},
   "source": [
    "## Vérification des valeurs non définies"
   ]
  },
  {
   "cell_type": "code",
   "execution_count": 4,
   "metadata": {},
   "outputs": [
    {
     "data": {
      "text/plain": [
       "fixed acidity           0\n",
       "volatile acidity        0\n",
       "citric acid             0\n",
       "residual sugar          0\n",
       "chlorides               0\n",
       "free sulfur dioxide     0\n",
       "total sulfur dioxide    0\n",
       "density                 0\n",
       "pH                      0\n",
       "sulphates               0\n",
       "alcohol                 0\n",
       "quality                 0\n",
       "dtype: int64"
      ]
     },
     "execution_count": 4,
     "metadata": {},
     "output_type": "execute_result"
    }
   ],
   "source": [
    "df.isna().sum()"
   ]
  },
  {
   "cell_type": "code",
   "execution_count": 5,
   "metadata": {},
   "outputs": [
    {
     "data": {
      "text/plain": [
       "Index(['fixed_acidity', 'volatile_acidity', 'citric_acid', 'residual_sugar',\n",
       "       'chlorides', 'free_sulfur_dioxide', 'total_sulfur_dioxide', 'density',\n",
       "       'pH', 'sulphates', 'alcohol', 'quality'],\n",
       "      dtype='object')"
      ]
     },
     "execution_count": 5,
     "metadata": {},
     "output_type": "execute_result"
    }
   ],
   "source": [
    "# Formatage des colonnes\n",
    "df.columns = df.columns.str.replace(' ','_')\n",
    "df.columns"
   ]
  },
  {
   "cell_type": "code",
   "execution_count": 6,
   "metadata": {},
   "outputs": [
    {
     "data": {
      "text/plain": [
       "fixed_acidity           float64\n",
       "volatile_acidity        float64\n",
       "citric_acid             float64\n",
       "residual_sugar          float64\n",
       "chlorides               float64\n",
       "free_sulfur_dioxide     float64\n",
       "total_sulfur_dioxide    float64\n",
       "density                 float64\n",
       "pH                      float64\n",
       "sulphates               float64\n",
       "alcohol                 float64\n",
       "quality                   int64\n",
       "dtype: object"
      ]
     },
     "execution_count": 6,
     "metadata": {},
     "output_type": "execute_result"
    }
   ],
   "source": [
    "# Informations sur les colonnes\n",
    "df.dtypes"
   ]
  },
  {
   "cell_type": "code",
   "execution_count": 7,
   "metadata": {},
   "outputs": [
    {
     "data": {
      "text/html": [
       "<div>\n",
       "<style scoped>\n",
       "    .dataframe tbody tr th:only-of-type {\n",
       "        vertical-align: middle;\n",
       "    }\n",
       "\n",
       "    .dataframe tbody tr th {\n",
       "        vertical-align: top;\n",
       "    }\n",
       "\n",
       "    .dataframe thead th {\n",
       "        text-align: right;\n",
       "    }\n",
       "</style>\n",
       "<table border=\"1\" class=\"dataframe\">\n",
       "  <thead>\n",
       "    <tr style=\"text-align: right;\">\n",
       "      <th></th>\n",
       "      <th>fixed_acidity</th>\n",
       "      <th>volatile_acidity</th>\n",
       "      <th>citric_acid</th>\n",
       "      <th>residual_sugar</th>\n",
       "      <th>chlorides</th>\n",
       "      <th>free_sulfur_dioxide</th>\n",
       "      <th>total_sulfur_dioxide</th>\n",
       "      <th>density</th>\n",
       "      <th>pH</th>\n",
       "      <th>sulphates</th>\n",
       "      <th>alcohol</th>\n",
       "      <th>quality</th>\n",
       "    </tr>\n",
       "  </thead>\n",
       "  <tbody>\n",
       "    <tr>\n",
       "      <th>267</th>\n",
       "      <td>7.9</td>\n",
       "      <td>0.35</td>\n",
       "      <td>0.46</td>\n",
       "      <td>3.6</td>\n",
       "      <td>0.078</td>\n",
       "      <td>15.0</td>\n",
       "      <td>37.0</td>\n",
       "      <td>0.99730</td>\n",
       "      <td>3.35</td>\n",
       "      <td>0.86</td>\n",
       "      <td>12.8</td>\n",
       "      <td>8</td>\n",
       "    </tr>\n",
       "    <tr>\n",
       "      <th>278</th>\n",
       "      <td>10.3</td>\n",
       "      <td>0.32</td>\n",
       "      <td>0.45</td>\n",
       "      <td>6.4</td>\n",
       "      <td>0.073</td>\n",
       "      <td>5.0</td>\n",
       "      <td>13.0</td>\n",
       "      <td>0.99760</td>\n",
       "      <td>3.23</td>\n",
       "      <td>0.82</td>\n",
       "      <td>12.6</td>\n",
       "      <td>8</td>\n",
       "    </tr>\n",
       "    <tr>\n",
       "      <th>390</th>\n",
       "      <td>5.6</td>\n",
       "      <td>0.85</td>\n",
       "      <td>0.05</td>\n",
       "      <td>1.4</td>\n",
       "      <td>0.045</td>\n",
       "      <td>12.0</td>\n",
       "      <td>88.0</td>\n",
       "      <td>0.99240</td>\n",
       "      <td>3.56</td>\n",
       "      <td>0.82</td>\n",
       "      <td>12.9</td>\n",
       "      <td>8</td>\n",
       "    </tr>\n",
       "    <tr>\n",
       "      <th>440</th>\n",
       "      <td>12.6</td>\n",
       "      <td>0.31</td>\n",
       "      <td>0.72</td>\n",
       "      <td>2.2</td>\n",
       "      <td>0.072</td>\n",
       "      <td>6.0</td>\n",
       "      <td>29.0</td>\n",
       "      <td>0.99870</td>\n",
       "      <td>2.88</td>\n",
       "      <td>0.82</td>\n",
       "      <td>9.8</td>\n",
       "      <td>8</td>\n",
       "    </tr>\n",
       "    <tr>\n",
       "      <th>455</th>\n",
       "      <td>11.3</td>\n",
       "      <td>0.62</td>\n",
       "      <td>0.67</td>\n",
       "      <td>5.2</td>\n",
       "      <td>0.086</td>\n",
       "      <td>6.0</td>\n",
       "      <td>19.0</td>\n",
       "      <td>0.99880</td>\n",
       "      <td>3.22</td>\n",
       "      <td>0.69</td>\n",
       "      <td>13.4</td>\n",
       "      <td>8</td>\n",
       "    </tr>\n",
       "    <tr>\n",
       "      <th>481</th>\n",
       "      <td>9.4</td>\n",
       "      <td>0.30</td>\n",
       "      <td>0.56</td>\n",
       "      <td>2.8</td>\n",
       "      <td>0.080</td>\n",
       "      <td>6.0</td>\n",
       "      <td>17.0</td>\n",
       "      <td>0.99640</td>\n",
       "      <td>3.15</td>\n",
       "      <td>0.92</td>\n",
       "      <td>11.7</td>\n",
       "      <td>8</td>\n",
       "    </tr>\n",
       "    <tr>\n",
       "      <th>495</th>\n",
       "      <td>10.7</td>\n",
       "      <td>0.35</td>\n",
       "      <td>0.53</td>\n",
       "      <td>2.6</td>\n",
       "      <td>0.070</td>\n",
       "      <td>5.0</td>\n",
       "      <td>16.0</td>\n",
       "      <td>0.99720</td>\n",
       "      <td>3.15</td>\n",
       "      <td>0.65</td>\n",
       "      <td>11.0</td>\n",
       "      <td>8</td>\n",
       "    </tr>\n",
       "    <tr>\n",
       "      <th>498</th>\n",
       "      <td>10.7</td>\n",
       "      <td>0.35</td>\n",
       "      <td>0.53</td>\n",
       "      <td>2.6</td>\n",
       "      <td>0.070</td>\n",
       "      <td>5.0</td>\n",
       "      <td>16.0</td>\n",
       "      <td>0.99720</td>\n",
       "      <td>3.15</td>\n",
       "      <td>0.65</td>\n",
       "      <td>11.0</td>\n",
       "      <td>8</td>\n",
       "    </tr>\n",
       "    <tr>\n",
       "      <th>588</th>\n",
       "      <td>5.0</td>\n",
       "      <td>0.42</td>\n",
       "      <td>0.24</td>\n",
       "      <td>2.0</td>\n",
       "      <td>0.060</td>\n",
       "      <td>19.0</td>\n",
       "      <td>50.0</td>\n",
       "      <td>0.99170</td>\n",
       "      <td>3.72</td>\n",
       "      <td>0.74</td>\n",
       "      <td>14.0</td>\n",
       "      <td>8</td>\n",
       "    </tr>\n",
       "    <tr>\n",
       "      <th>828</th>\n",
       "      <td>7.8</td>\n",
       "      <td>0.57</td>\n",
       "      <td>0.09</td>\n",
       "      <td>2.3</td>\n",
       "      <td>0.065</td>\n",
       "      <td>34.0</td>\n",
       "      <td>45.0</td>\n",
       "      <td>0.99417</td>\n",
       "      <td>3.46</td>\n",
       "      <td>0.74</td>\n",
       "      <td>12.7</td>\n",
       "      <td>8</td>\n",
       "    </tr>\n",
       "    <tr>\n",
       "      <th>1061</th>\n",
       "      <td>9.1</td>\n",
       "      <td>0.40</td>\n",
       "      <td>0.50</td>\n",
       "      <td>1.8</td>\n",
       "      <td>0.071</td>\n",
       "      <td>7.0</td>\n",
       "      <td>16.0</td>\n",
       "      <td>0.99462</td>\n",
       "      <td>3.21</td>\n",
       "      <td>0.69</td>\n",
       "      <td>12.5</td>\n",
       "      <td>8</td>\n",
       "    </tr>\n",
       "    <tr>\n",
       "      <th>1090</th>\n",
       "      <td>10.0</td>\n",
       "      <td>0.26</td>\n",
       "      <td>0.54</td>\n",
       "      <td>1.9</td>\n",
       "      <td>0.083</td>\n",
       "      <td>42.0</td>\n",
       "      <td>74.0</td>\n",
       "      <td>0.99451</td>\n",
       "      <td>2.98</td>\n",
       "      <td>0.63</td>\n",
       "      <td>11.8</td>\n",
       "      <td>8</td>\n",
       "    </tr>\n",
       "    <tr>\n",
       "      <th>1120</th>\n",
       "      <td>7.9</td>\n",
       "      <td>0.54</td>\n",
       "      <td>0.34</td>\n",
       "      <td>2.5</td>\n",
       "      <td>0.076</td>\n",
       "      <td>8.0</td>\n",
       "      <td>17.0</td>\n",
       "      <td>0.99235</td>\n",
       "      <td>3.20</td>\n",
       "      <td>0.72</td>\n",
       "      <td>13.1</td>\n",
       "      <td>8</td>\n",
       "    </tr>\n",
       "    <tr>\n",
       "      <th>1202</th>\n",
       "      <td>8.6</td>\n",
       "      <td>0.42</td>\n",
       "      <td>0.39</td>\n",
       "      <td>1.8</td>\n",
       "      <td>0.068</td>\n",
       "      <td>6.0</td>\n",
       "      <td>12.0</td>\n",
       "      <td>0.99516</td>\n",
       "      <td>3.35</td>\n",
       "      <td>0.69</td>\n",
       "      <td>11.7</td>\n",
       "      <td>8</td>\n",
       "    </tr>\n",
       "    <tr>\n",
       "      <th>1269</th>\n",
       "      <td>5.5</td>\n",
       "      <td>0.49</td>\n",
       "      <td>0.03</td>\n",
       "      <td>1.8</td>\n",
       "      <td>0.044</td>\n",
       "      <td>28.0</td>\n",
       "      <td>87.0</td>\n",
       "      <td>0.99080</td>\n",
       "      <td>3.50</td>\n",
       "      <td>0.82</td>\n",
       "      <td>14.0</td>\n",
       "      <td>8</td>\n",
       "    </tr>\n",
       "    <tr>\n",
       "      <th>1403</th>\n",
       "      <td>7.2</td>\n",
       "      <td>0.33</td>\n",
       "      <td>0.33</td>\n",
       "      <td>1.7</td>\n",
       "      <td>0.061</td>\n",
       "      <td>3.0</td>\n",
       "      <td>13.0</td>\n",
       "      <td>0.99600</td>\n",
       "      <td>3.23</td>\n",
       "      <td>1.10</td>\n",
       "      <td>10.0</td>\n",
       "      <td>8</td>\n",
       "    </tr>\n",
       "    <tr>\n",
       "      <th>1449</th>\n",
       "      <td>7.2</td>\n",
       "      <td>0.38</td>\n",
       "      <td>0.31</td>\n",
       "      <td>2.0</td>\n",
       "      <td>0.056</td>\n",
       "      <td>15.0</td>\n",
       "      <td>29.0</td>\n",
       "      <td>0.99472</td>\n",
       "      <td>3.23</td>\n",
       "      <td>0.76</td>\n",
       "      <td>11.3</td>\n",
       "      <td>8</td>\n",
       "    </tr>\n",
       "    <tr>\n",
       "      <th>1549</th>\n",
       "      <td>7.4</td>\n",
       "      <td>0.36</td>\n",
       "      <td>0.30</td>\n",
       "      <td>1.8</td>\n",
       "      <td>0.074</td>\n",
       "      <td>17.0</td>\n",
       "      <td>24.0</td>\n",
       "      <td>0.99419</td>\n",
       "      <td>3.24</td>\n",
       "      <td>0.70</td>\n",
       "      <td>11.4</td>\n",
       "      <td>8</td>\n",
       "    </tr>\n",
       "  </tbody>\n",
       "</table>\n",
       "</div>"
      ],
      "text/plain": [
       "      fixed_acidity  volatile_acidity  citric_acid  residual_sugar  chlorides  \\\n",
       "267             7.9              0.35         0.46             3.6      0.078   \n",
       "278            10.3              0.32         0.45             6.4      0.073   \n",
       "390             5.6              0.85         0.05             1.4      0.045   \n",
       "440            12.6              0.31         0.72             2.2      0.072   \n",
       "455            11.3              0.62         0.67             5.2      0.086   \n",
       "481             9.4              0.30         0.56             2.8      0.080   \n",
       "495            10.7              0.35         0.53             2.6      0.070   \n",
       "498            10.7              0.35         0.53             2.6      0.070   \n",
       "588             5.0              0.42         0.24             2.0      0.060   \n",
       "828             7.8              0.57         0.09             2.3      0.065   \n",
       "1061            9.1              0.40         0.50             1.8      0.071   \n",
       "1090           10.0              0.26         0.54             1.9      0.083   \n",
       "1120            7.9              0.54         0.34             2.5      0.076   \n",
       "1202            8.6              0.42         0.39             1.8      0.068   \n",
       "1269            5.5              0.49         0.03             1.8      0.044   \n",
       "1403            7.2              0.33         0.33             1.7      0.061   \n",
       "1449            7.2              0.38         0.31             2.0      0.056   \n",
       "1549            7.4              0.36         0.30             1.8      0.074   \n",
       "\n",
       "      free_sulfur_dioxide  total_sulfur_dioxide  density    pH  sulphates  \\\n",
       "267                  15.0                  37.0  0.99730  3.35       0.86   \n",
       "278                   5.0                  13.0  0.99760  3.23       0.82   \n",
       "390                  12.0                  88.0  0.99240  3.56       0.82   \n",
       "440                   6.0                  29.0  0.99870  2.88       0.82   \n",
       "455                   6.0                  19.0  0.99880  3.22       0.69   \n",
       "481                   6.0                  17.0  0.99640  3.15       0.92   \n",
       "495                   5.0                  16.0  0.99720  3.15       0.65   \n",
       "498                   5.0                  16.0  0.99720  3.15       0.65   \n",
       "588                  19.0                  50.0  0.99170  3.72       0.74   \n",
       "828                  34.0                  45.0  0.99417  3.46       0.74   \n",
       "1061                  7.0                  16.0  0.99462  3.21       0.69   \n",
       "1090                 42.0                  74.0  0.99451  2.98       0.63   \n",
       "1120                  8.0                  17.0  0.99235  3.20       0.72   \n",
       "1202                  6.0                  12.0  0.99516  3.35       0.69   \n",
       "1269                 28.0                  87.0  0.99080  3.50       0.82   \n",
       "1403                  3.0                  13.0  0.99600  3.23       1.10   \n",
       "1449                 15.0                  29.0  0.99472  3.23       0.76   \n",
       "1549                 17.0                  24.0  0.99419  3.24       0.70   \n",
       "\n",
       "      alcohol  quality  \n",
       "267      12.8        8  \n",
       "278      12.6        8  \n",
       "390      12.9        8  \n",
       "440       9.8        8  \n",
       "455      13.4        8  \n",
       "481      11.7        8  \n",
       "495      11.0        8  \n",
       "498      11.0        8  \n",
       "588      14.0        8  \n",
       "828      12.7        8  \n",
       "1061     12.5        8  \n",
       "1090     11.8        8  \n",
       "1120     13.1        8  \n",
       "1202     11.7        8  \n",
       "1269     14.0        8  \n",
       "1403     10.0        8  \n",
       "1449     11.3        8  \n",
       "1549     11.4        8  "
      ]
     },
     "execution_count": 7,
     "metadata": {},
     "output_type": "execute_result"
    }
   ],
   "source": [
    "# Récupération des meilleurs vins\n",
    "top_class_wine = df.quality == 8\n",
    "df.loc[top_class_wine.values]"
   ]
  },
  {
   "cell_type": "code",
   "execution_count": 8,
   "metadata": {},
   "outputs": [
    {
     "data": {
      "text/html": [
       "<div>\n",
       "<style scoped>\n",
       "    .dataframe tbody tr th:only-of-type {\n",
       "        vertical-align: middle;\n",
       "    }\n",
       "\n",
       "    .dataframe tbody tr th {\n",
       "        vertical-align: top;\n",
       "    }\n",
       "\n",
       "    .dataframe thead th {\n",
       "        text-align: right;\n",
       "    }\n",
       "</style>\n",
       "<table border=\"1\" class=\"dataframe\">\n",
       "  <thead>\n",
       "    <tr style=\"text-align: right;\">\n",
       "      <th></th>\n",
       "      <th>fixed_acidity</th>\n",
       "      <th>volatile_acidity</th>\n",
       "      <th>citric_acid</th>\n",
       "      <th>residual_sugar</th>\n",
       "      <th>chlorides</th>\n",
       "      <th>free_sulfur_dioxide</th>\n",
       "      <th>total_sulfur_dioxide</th>\n",
       "      <th>density</th>\n",
       "      <th>pH</th>\n",
       "      <th>sulphates</th>\n",
       "      <th>alcohol</th>\n",
       "      <th>quality</th>\n",
       "    </tr>\n",
       "  </thead>\n",
       "  <tbody>\n",
       "    <tr>\n",
       "      <th>459</th>\n",
       "      <td>11.6</td>\n",
       "      <td>0.580</td>\n",
       "      <td>0.66</td>\n",
       "      <td>2.20</td>\n",
       "      <td>0.074</td>\n",
       "      <td>10.0</td>\n",
       "      <td>47.0</td>\n",
       "      <td>1.00080</td>\n",
       "      <td>3.25</td>\n",
       "      <td>0.57</td>\n",
       "      <td>9.00</td>\n",
       "      <td>3</td>\n",
       "    </tr>\n",
       "    <tr>\n",
       "      <th>517</th>\n",
       "      <td>10.4</td>\n",
       "      <td>0.610</td>\n",
       "      <td>0.49</td>\n",
       "      <td>2.10</td>\n",
       "      <td>0.200</td>\n",
       "      <td>5.0</td>\n",
       "      <td>16.0</td>\n",
       "      <td>0.99940</td>\n",
       "      <td>3.16</td>\n",
       "      <td>0.63</td>\n",
       "      <td>8.40</td>\n",
       "      <td>3</td>\n",
       "    </tr>\n",
       "    <tr>\n",
       "      <th>690</th>\n",
       "      <td>7.4</td>\n",
       "      <td>1.185</td>\n",
       "      <td>0.00</td>\n",
       "      <td>4.25</td>\n",
       "      <td>0.097</td>\n",
       "      <td>5.0</td>\n",
       "      <td>14.0</td>\n",
       "      <td>0.99660</td>\n",
       "      <td>3.63</td>\n",
       "      <td>0.54</td>\n",
       "      <td>10.70</td>\n",
       "      <td>3</td>\n",
       "    </tr>\n",
       "    <tr>\n",
       "      <th>832</th>\n",
       "      <td>10.4</td>\n",
       "      <td>0.440</td>\n",
       "      <td>0.42</td>\n",
       "      <td>1.50</td>\n",
       "      <td>0.145</td>\n",
       "      <td>34.0</td>\n",
       "      <td>48.0</td>\n",
       "      <td>0.99832</td>\n",
       "      <td>3.38</td>\n",
       "      <td>0.86</td>\n",
       "      <td>9.90</td>\n",
       "      <td>3</td>\n",
       "    </tr>\n",
       "    <tr>\n",
       "      <th>899</th>\n",
       "      <td>8.3</td>\n",
       "      <td>1.020</td>\n",
       "      <td>0.02</td>\n",
       "      <td>3.40</td>\n",
       "      <td>0.084</td>\n",
       "      <td>6.0</td>\n",
       "      <td>11.0</td>\n",
       "      <td>0.99892</td>\n",
       "      <td>3.48</td>\n",
       "      <td>0.49</td>\n",
       "      <td>11.00</td>\n",
       "      <td>3</td>\n",
       "    </tr>\n",
       "    <tr>\n",
       "      <th>1299</th>\n",
       "      <td>7.6</td>\n",
       "      <td>1.580</td>\n",
       "      <td>0.00</td>\n",
       "      <td>2.10</td>\n",
       "      <td>0.137</td>\n",
       "      <td>5.0</td>\n",
       "      <td>9.0</td>\n",
       "      <td>0.99476</td>\n",
       "      <td>3.50</td>\n",
       "      <td>0.40</td>\n",
       "      <td>10.90</td>\n",
       "      <td>3</td>\n",
       "    </tr>\n",
       "    <tr>\n",
       "      <th>1374</th>\n",
       "      <td>6.8</td>\n",
       "      <td>0.815</td>\n",
       "      <td>0.00</td>\n",
       "      <td>1.20</td>\n",
       "      <td>0.267</td>\n",
       "      <td>16.0</td>\n",
       "      <td>29.0</td>\n",
       "      <td>0.99471</td>\n",
       "      <td>3.32</td>\n",
       "      <td>0.51</td>\n",
       "      <td>9.80</td>\n",
       "      <td>3</td>\n",
       "    </tr>\n",
       "    <tr>\n",
       "      <th>1469</th>\n",
       "      <td>7.3</td>\n",
       "      <td>0.980</td>\n",
       "      <td>0.05</td>\n",
       "      <td>2.10</td>\n",
       "      <td>0.061</td>\n",
       "      <td>20.0</td>\n",
       "      <td>49.0</td>\n",
       "      <td>0.99705</td>\n",
       "      <td>3.31</td>\n",
       "      <td>0.55</td>\n",
       "      <td>9.70</td>\n",
       "      <td>3</td>\n",
       "    </tr>\n",
       "    <tr>\n",
       "      <th>1478</th>\n",
       "      <td>7.1</td>\n",
       "      <td>0.875</td>\n",
       "      <td>0.05</td>\n",
       "      <td>5.70</td>\n",
       "      <td>0.082</td>\n",
       "      <td>3.0</td>\n",
       "      <td>14.0</td>\n",
       "      <td>0.99808</td>\n",
       "      <td>3.40</td>\n",
       "      <td>0.52</td>\n",
       "      <td>10.20</td>\n",
       "      <td>3</td>\n",
       "    </tr>\n",
       "    <tr>\n",
       "      <th>1505</th>\n",
       "      <td>6.7</td>\n",
       "      <td>0.760</td>\n",
       "      <td>0.02</td>\n",
       "      <td>1.80</td>\n",
       "      <td>0.078</td>\n",
       "      <td>6.0</td>\n",
       "      <td>12.0</td>\n",
       "      <td>0.99600</td>\n",
       "      <td>3.55</td>\n",
       "      <td>0.63</td>\n",
       "      <td>9.95</td>\n",
       "      <td>3</td>\n",
       "    </tr>\n",
       "  </tbody>\n",
       "</table>\n",
       "</div>"
      ],
      "text/plain": [
       "      fixed_acidity  volatile_acidity  citric_acid  residual_sugar  chlorides  \\\n",
       "459            11.6             0.580         0.66            2.20      0.074   \n",
       "517            10.4             0.610         0.49            2.10      0.200   \n",
       "690             7.4             1.185         0.00            4.25      0.097   \n",
       "832            10.4             0.440         0.42            1.50      0.145   \n",
       "899             8.3             1.020         0.02            3.40      0.084   \n",
       "1299            7.6             1.580         0.00            2.10      0.137   \n",
       "1374            6.8             0.815         0.00            1.20      0.267   \n",
       "1469            7.3             0.980         0.05            2.10      0.061   \n",
       "1478            7.1             0.875         0.05            5.70      0.082   \n",
       "1505            6.7             0.760         0.02            1.80      0.078   \n",
       "\n",
       "      free_sulfur_dioxide  total_sulfur_dioxide  density    pH  sulphates  \\\n",
       "459                  10.0                  47.0  1.00080  3.25       0.57   \n",
       "517                   5.0                  16.0  0.99940  3.16       0.63   \n",
       "690                   5.0                  14.0  0.99660  3.63       0.54   \n",
       "832                  34.0                  48.0  0.99832  3.38       0.86   \n",
       "899                   6.0                  11.0  0.99892  3.48       0.49   \n",
       "1299                  5.0                   9.0  0.99476  3.50       0.40   \n",
       "1374                 16.0                  29.0  0.99471  3.32       0.51   \n",
       "1469                 20.0                  49.0  0.99705  3.31       0.55   \n",
       "1478                  3.0                  14.0  0.99808  3.40       0.52   \n",
       "1505                  6.0                  12.0  0.99600  3.55       0.63   \n",
       "\n",
       "      alcohol  quality  \n",
       "459      9.00        3  \n",
       "517      8.40        3  \n",
       "690     10.70        3  \n",
       "832      9.90        3  \n",
       "899     11.00        3  \n",
       "1299    10.90        3  \n",
       "1374     9.80        3  \n",
       "1469     9.70        3  \n",
       "1478    10.20        3  \n",
       "1505     9.95        3  "
      ]
     },
     "execution_count": 8,
     "metadata": {},
     "output_type": "execute_result"
    }
   ],
   "source": [
    "# Récupération des moins bons vins\n",
    "low_class_wine = df.quality < 4\n",
    "df.loc[low_class_wine.values]"
   ]
  },
  {
   "cell_type": "code",
   "execution_count": 9,
   "metadata": {
    "scrolled": true
   },
   "outputs": [
    {
     "data": {
      "text/html": [
       "<div>\n",
       "<style scoped>\n",
       "    .dataframe tbody tr th:only-of-type {\n",
       "        vertical-align: middle;\n",
       "    }\n",
       "\n",
       "    .dataframe tbody tr th {\n",
       "        vertical-align: top;\n",
       "    }\n",
       "\n",
       "    .dataframe thead th {\n",
       "        text-align: right;\n",
       "    }\n",
       "</style>\n",
       "<table border=\"1\" class=\"dataframe\">\n",
       "  <thead>\n",
       "    <tr style=\"text-align: right;\">\n",
       "      <th></th>\n",
       "      <th>fixed_acidity</th>\n",
       "      <th>volatile_acidity</th>\n",
       "      <th>citric_acid</th>\n",
       "      <th>residual_sugar</th>\n",
       "      <th>chlorides</th>\n",
       "      <th>free_sulfur_dioxide</th>\n",
       "      <th>total_sulfur_dioxide</th>\n",
       "      <th>density</th>\n",
       "      <th>pH</th>\n",
       "      <th>sulphates</th>\n",
       "      <th>alcohol</th>\n",
       "      <th>quality</th>\n",
       "    </tr>\n",
       "  </thead>\n",
       "  <tbody>\n",
       "    <tr>\n",
       "      <th>count</th>\n",
       "      <td>1599.000000</td>\n",
       "      <td>1599.000000</td>\n",
       "      <td>1599.000000</td>\n",
       "      <td>1599.000000</td>\n",
       "      <td>1599.000000</td>\n",
       "      <td>1599.000000</td>\n",
       "      <td>1599.000000</td>\n",
       "      <td>1599.000000</td>\n",
       "      <td>1599.000000</td>\n",
       "      <td>1599.000000</td>\n",
       "      <td>1599.000000</td>\n",
       "      <td>1599.000000</td>\n",
       "    </tr>\n",
       "    <tr>\n",
       "      <th>mean</th>\n",
       "      <td>8.319637</td>\n",
       "      <td>0.527821</td>\n",
       "      <td>0.270976</td>\n",
       "      <td>2.538806</td>\n",
       "      <td>0.087467</td>\n",
       "      <td>15.874922</td>\n",
       "      <td>46.467792</td>\n",
       "      <td>0.996747</td>\n",
       "      <td>3.311113</td>\n",
       "      <td>0.658149</td>\n",
       "      <td>10.422983</td>\n",
       "      <td>5.636023</td>\n",
       "    </tr>\n",
       "    <tr>\n",
       "      <th>std</th>\n",
       "      <td>1.741096</td>\n",
       "      <td>0.179060</td>\n",
       "      <td>0.194801</td>\n",
       "      <td>1.409928</td>\n",
       "      <td>0.047065</td>\n",
       "      <td>10.460157</td>\n",
       "      <td>32.895324</td>\n",
       "      <td>0.001887</td>\n",
       "      <td>0.154386</td>\n",
       "      <td>0.169507</td>\n",
       "      <td>1.065668</td>\n",
       "      <td>0.807569</td>\n",
       "    </tr>\n",
       "    <tr>\n",
       "      <th>min</th>\n",
       "      <td>4.600000</td>\n",
       "      <td>0.120000</td>\n",
       "      <td>0.000000</td>\n",
       "      <td>0.900000</td>\n",
       "      <td>0.012000</td>\n",
       "      <td>1.000000</td>\n",
       "      <td>6.000000</td>\n",
       "      <td>0.990070</td>\n",
       "      <td>2.740000</td>\n",
       "      <td>0.330000</td>\n",
       "      <td>8.400000</td>\n",
       "      <td>3.000000</td>\n",
       "    </tr>\n",
       "    <tr>\n",
       "      <th>25%</th>\n",
       "      <td>7.100000</td>\n",
       "      <td>0.390000</td>\n",
       "      <td>0.090000</td>\n",
       "      <td>1.900000</td>\n",
       "      <td>0.070000</td>\n",
       "      <td>7.000000</td>\n",
       "      <td>22.000000</td>\n",
       "      <td>0.995600</td>\n",
       "      <td>3.210000</td>\n",
       "      <td>0.550000</td>\n",
       "      <td>9.500000</td>\n",
       "      <td>5.000000</td>\n",
       "    </tr>\n",
       "    <tr>\n",
       "      <th>50%</th>\n",
       "      <td>7.900000</td>\n",
       "      <td>0.520000</td>\n",
       "      <td>0.260000</td>\n",
       "      <td>2.200000</td>\n",
       "      <td>0.079000</td>\n",
       "      <td>14.000000</td>\n",
       "      <td>38.000000</td>\n",
       "      <td>0.996750</td>\n",
       "      <td>3.310000</td>\n",
       "      <td>0.620000</td>\n",
       "      <td>10.200000</td>\n",
       "      <td>6.000000</td>\n",
       "    </tr>\n",
       "    <tr>\n",
       "      <th>75%</th>\n",
       "      <td>9.200000</td>\n",
       "      <td>0.640000</td>\n",
       "      <td>0.420000</td>\n",
       "      <td>2.600000</td>\n",
       "      <td>0.090000</td>\n",
       "      <td>21.000000</td>\n",
       "      <td>62.000000</td>\n",
       "      <td>0.997835</td>\n",
       "      <td>3.400000</td>\n",
       "      <td>0.730000</td>\n",
       "      <td>11.100000</td>\n",
       "      <td>6.000000</td>\n",
       "    </tr>\n",
       "    <tr>\n",
       "      <th>max</th>\n",
       "      <td>15.900000</td>\n",
       "      <td>1.580000</td>\n",
       "      <td>1.000000</td>\n",
       "      <td>15.500000</td>\n",
       "      <td>0.611000</td>\n",
       "      <td>72.000000</td>\n",
       "      <td>289.000000</td>\n",
       "      <td>1.003690</td>\n",
       "      <td>4.010000</td>\n",
       "      <td>2.000000</td>\n",
       "      <td>14.900000</td>\n",
       "      <td>8.000000</td>\n",
       "    </tr>\n",
       "  </tbody>\n",
       "</table>\n",
       "</div>"
      ],
      "text/plain": [
       "       fixed_acidity  volatile_acidity  citric_acid  residual_sugar  \\\n",
       "count    1599.000000       1599.000000  1599.000000     1599.000000   \n",
       "mean        8.319637          0.527821     0.270976        2.538806   \n",
       "std         1.741096          0.179060     0.194801        1.409928   \n",
       "min         4.600000          0.120000     0.000000        0.900000   \n",
       "25%         7.100000          0.390000     0.090000        1.900000   \n",
       "50%         7.900000          0.520000     0.260000        2.200000   \n",
       "75%         9.200000          0.640000     0.420000        2.600000   \n",
       "max        15.900000          1.580000     1.000000       15.500000   \n",
       "\n",
       "         chlorides  free_sulfur_dioxide  total_sulfur_dioxide      density  \\\n",
       "count  1599.000000          1599.000000           1599.000000  1599.000000   \n",
       "mean      0.087467            15.874922             46.467792     0.996747   \n",
       "std       0.047065            10.460157             32.895324     0.001887   \n",
       "min       0.012000             1.000000              6.000000     0.990070   \n",
       "25%       0.070000             7.000000             22.000000     0.995600   \n",
       "50%       0.079000            14.000000             38.000000     0.996750   \n",
       "75%       0.090000            21.000000             62.000000     0.997835   \n",
       "max       0.611000            72.000000            289.000000     1.003690   \n",
       "\n",
       "                pH    sulphates      alcohol      quality  \n",
       "count  1599.000000  1599.000000  1599.000000  1599.000000  \n",
       "mean      3.311113     0.658149    10.422983     5.636023  \n",
       "std       0.154386     0.169507     1.065668     0.807569  \n",
       "min       2.740000     0.330000     8.400000     3.000000  \n",
       "25%       3.210000     0.550000     9.500000     5.000000  \n",
       "50%       3.310000     0.620000    10.200000     6.000000  \n",
       "75%       3.400000     0.730000    11.100000     6.000000  \n",
       "max       4.010000     2.000000    14.900000     8.000000  "
      ]
     },
     "execution_count": 9,
     "metadata": {},
     "output_type": "execute_result"
    }
   ],
   "source": [
    "df.describe()"
   ]
  },
  {
   "cell_type": "markdown",
   "metadata": {},
   "source": [
    "## Création de notre target à partir de la colonne qualité"
   ]
  },
  {
   "cell_type": "code",
   "execution_count": 10,
   "metadata": {},
   "outputs": [],
   "source": [
    "from sklearn.linear_model import LinearRegression\n",
    "from sklearn.metrics import mean_squared_error\n",
    "from sklearn.model_selection import train_test_split\n",
    "from sklearn.linear_model import LogisticRegression\n",
    "from sklearn.metrics import accuracy_score\n",
    "from sklearn.metrics import plot_confusion_matrix"
   ]
  },
  {
   "cell_type": "code",
   "execution_count": 11,
   "metadata": {},
   "outputs": [
    {
     "data": {
      "text/plain": [
       "array([5, 6, 7, 4, 8, 3])"
      ]
     },
     "execution_count": 11,
     "metadata": {},
     "output_type": "execute_result"
    }
   ],
   "source": [
    "# Récupération des différentes valeurs possibles pour la colonne \"quality\"\n",
    "df[\"quality\"].unique()"
   ]
  },
  {
   "cell_type": "code",
   "execution_count": 12,
   "metadata": {
    "scrolled": true
   },
   "outputs": [
    {
     "data": {
      "text/plain": [
       "<AxesSubplot:>"
      ]
     },
     "execution_count": 12,
     "metadata": {},
     "output_type": "execute_result"
    },
    {
     "data": {
      "image/png": "[encoded data removed]",
      "text/plain": [
       "<Figure size 432x288 with 1 Axes>"
      ]
     },
     "metadata": {
      "needs_background": "light"
     },
     "output_type": "display_data"
    }
   ],
   "source": [
    "# Et leur occurence\n",
    "df[\"quality\"].value_counts().plot(kind=\"bar\")"
   ]
  },
  {
   "cell_type": "markdown",
   "metadata": {},
   "source": [
    "### On sépare les vins en 2 catégories en fonction de la qualité\n"
   ]
  },
  {
   "cell_type": "code",
   "execution_count": 13,
   "metadata": {},
   "outputs": [],
   "source": [
    "# 0 => Mauvais\n",
    "# 1 => Bon\n",
    "df['reviews'] = 0\n",
    "df.loc[df[\"quality\"] > 5, 'reviews'] = 1"
   ]
  },
  {
   "cell_type": "code",
   "execution_count": 14,
   "metadata": {},
   "outputs": [
    {
     "data": {
      "text/plain": [
       "1    855\n",
       "0    744\n",
       "Name: reviews, dtype: int64"
      ]
     },
     "execution_count": 14,
     "metadata": {},
     "output_type": "execute_result"
    }
   ],
   "source": [
    "# Répartion des catégories\n",
    "df['reviews'].value_counts()"
   ]
  },
  {
   "cell_type": "markdown",
   "metadata": {},
   "source": [
    "## Recherche d'une corrélation entre la qualité et les différents critères du vin\n",
    "fixed_acidity\n",
    "volatile_acidity\n",
    "citric_acid\n",
    "residual_sugar\n",
    "chlorides\n",
    "free_sulfur_dioxide\n",
    "total_sulfur_dioxide\n",
    "density\n",
    "pH\n",
    "sulphates\n",
    "alcohol"
   ]
  },
  {
   "cell_type": "code",
   "execution_count": 15,
   "metadata": {},
   "outputs": [
    {
     "data": {
      "text/plain": [
       "<seaborn.axisgrid.FacetGrid at 0x7f99622eff70>"
      ]
     },
     "execution_count": 15,
     "metadata": {},
     "output_type": "execute_result"
    },
    {
     "data": {
      "image/png": "[encoded data removed]",
      "text/plain": [
       "<Figure size 432x288 with 1 Axes>"
      ]
     },
     "metadata": {
      "needs_background": "light"
     },
     "output_type": "display_data"
    },
    {
     "data": {
      "image/png": "[encoded data removed]",
      "text/plain": [
       "<Figure size 360x360 with 1 Axes>"
      ]
     },
     "metadata": {
      "needs_background": "light"
     },
     "output_type": "display_data"
    }
   ],
   "source": [
    "sns.boxplot(x='quality', y='fixed_acidity', data=df)\n",
    "sns.catplot(x=\"reviews\", y=\"fixed_acidity\", kind=\"bar\", data=df).set_xlabels(\"Vine quality\")"
   ]
  },
  {
   "cell_type": "code",
   "execution_count": 16,
   "metadata": {},
   "outputs": [
    {
     "data": {
      "text/plain": [
       "<seaborn.axisgrid.FacetGrid at 0x7f9962371340>"
      ]
     },
     "execution_count": 16,
     "metadata": {},
     "output_type": "execute_result"
    },
    {
     "data": {
      "image/png": "[encoded data removed]",
      "text/plain": [
       "<Figure size 432x288 with 1 Axes>"
      ]
     },
     "metadata": {
      "needs_background": "light"
     },
     "output_type": "display_data"
    },
    {
     "data": {
      "image/png": "[encoded data removed]",
      "text/plain": [
       "<Figure size 360x360 with 1 Axes>"
      ]
     },
     "metadata": {
      "needs_background": "light"
     },
     "output_type": "display_data"
    }
   ],
   "source": [
    "sns.boxplot(x='quality', y='volatile_acidity', data=df)\n",
    "sns.catplot(x=\"reviews\", y=\"volatile_acidity\", kind=\"bar\", data=df).set_xlabels(\"Vine quality\")"
   ]
  },
  {
   "cell_type": "code",
   "execution_count": 17,
   "metadata": {},
   "outputs": [
    {
     "data": {
      "text/plain": [
       "<seaborn.axisgrid.FacetGrid at 0x7f99622efee0>"
      ]
     },
     "execution_count": 17,
     "metadata": {},
     "output_type": "execute_result"
    },
    {
     "data": {
      "image/png": "[encoded data removed]",
      "text/plain": [
       "<Figure size 432x288 with 1 Axes>"
      ]
     },
     "metadata": {
      "needs_background": "light"
     },
     "output_type": "display_data"
    },
    {
     "data": {
      "image/png": "[encoded data removed]",
      "text/plain": [
       "<Figure size 360x360 with 1 Axes>"
      ]
     },
     "metadata": {
      "needs_background": "light"
     },
     "output_type": "display_data"
    }
   ],
   "source": [
    "sns.boxplot(x='quality', y='citric_acid', data=df)\n",
    "sns.catplot(x=\"reviews\", y=\"citric_acid\", kind=\"bar\", data=df).set_xlabels(\"Vine quality\")"
   ]
  },
  {
   "cell_type": "code",
   "execution_count": 18,
   "metadata": {
    "scrolled": false
   },
   "outputs": [
    {
     "data": {
      "text/plain": [
       "<seaborn.axisgrid.FacetGrid at 0x7f99629af070>"
      ]
     },
     "execution_count": 18,
     "metadata": {},
     "output_type": "execute_result"
    },
    {
     "data": {
      "image/png": "[encoded data removed]",
      "text/plain": [
       "<Figure size 432x288 with 1 Axes>"
      ]
     },
     "metadata": {
      "needs_background": "light"
     },
     "output_type": "display_data"
    },
    {
     "data": {
      "image/png": "[encoded data removed]",
      "text/plain": [
       "<Figure size 360x360 with 1 Axes>"
      ]
     },
     "metadata": {
      "needs_background": "light"
     },
     "output_type": "display_data"
    }
   ],
   "source": [
    "sns.boxplot(x='quality', y='residual_sugar', data=df)\n",
    "sns.catplot(x=\"reviews\", y=\"residual_sugar\", kind=\"bar\", data=df).set_xlabels(\"Vine quality\")"
   ]
  },
  {
   "cell_type": "code",
   "execution_count": 19,
   "metadata": {},
   "outputs": [
    {
     "data": {
      "text/plain": [
       "<seaborn.axisgrid.FacetGrid at 0x7f99626d4820>"
      ]
     },
     "execution_count": 19,
     "metadata": {},
     "output_type": "execute_result"
    },
    {
     "data": {
      "image/png": "[encoded data removed]",
      "text/plain": [
       "<Figure size 432x288 with 1 Axes>"
      ]
     },
     "metadata": {
      "needs_background": "light"
     },
     "output_type": "display_data"
    },
    {
     "data": {
      "image/png": "[encoded data removed]",
      "text/plain": [
       "<Figure size 360x360 with 1 Axes>"
      ]
     },
     "metadata": {
      "needs_background": "light"
     },
     "output_type": "display_data"
    }
   ],
   "source": [
    "sns.boxplot(x='quality', y='chlorides', data=df)\n",
    "sns.catplot(x=\"reviews\", y=\"chlorides\", kind=\"bar\", data=df).set_xlabels(\"Vine quality\")"
   ]
  },
  {
   "cell_type": "code",
   "execution_count": 20,
   "metadata": {},
   "outputs": [
    {
     "data": {
      "text/plain": [
       "<seaborn.axisgrid.FacetGrid at 0x7f99620e92b0>"
      ]
     },
     "execution_count": 20,
     "metadata": {},
     "output_type": "execute_result"
    },
    {
     "data": {
      "image/png": "[encoded data removed]",
      "text/plain": [
       "<Figure size 432x288 with 1 Axes>"
      ]
     },
     "metadata": {
      "needs_background": "light"
     },
     "output_type": "display_data"
    },
    {
     "data": {
      "image/png": "[encoded data removed]",
      "text/plain": [
       "<Figure size 360x360 with 1 Axes>"
      ]
     },
     "metadata": {
      "needs_background": "light"
     },
     "output_type": "display_data"
    }
   ],
   "source": [
    "sns.boxplot(x='quality', y='free_sulfur_dioxide', data=df)\n",
    "sns.catplot(x=\"reviews\", y=\"free_sulfur_dioxide\", kind=\"bar\", data=df).set_xlabels(\"Vine quality\")"
   ]
  },
  {
   "cell_type": "code",
   "execution_count": 21,
   "metadata": {},
   "outputs": [
    {
     "data": {
      "text/plain": [
       "<seaborn.axisgrid.FacetGrid at 0x7f9962737ca0>"
      ]
     },
     "execution_count": 21,
     "metadata": {},
     "output_type": "execute_result"
    },
    {
     "data": {
      "image/png": "[encoded data removed]",
      "text/plain": [
       "<Figure size 432x288 with 1 Axes>"
      ]
     },
     "metadata": {
      "needs_background": "light"
     },
     "output_type": "display_data"
    },
    {
     "data": {
      "image/png": "[encoded data removed]",
      "text/plain": [
       "<Figure size 360x360 with 1 Axes>"
      ]
     },
     "metadata": {
      "needs_background": "light"
     },
     "output_type": "display_data"
    }
   ],
   "source": [
    "sns.boxplot(x='quality', y='total_sulfur_dioxide', data=df)\n",
    "sns.catplot(x=\"reviews\", y=\"total_sulfur_dioxide\", kind=\"bar\", data=df).set_xlabels(\"Vine quality\")"
   ]
  },
  {
   "cell_type": "code",
   "execution_count": 22,
   "metadata": {},
   "outputs": [
    {
     "data": {
      "text/plain": [
       "<seaborn.axisgrid.FacetGrid at 0x7f9961642520>"
      ]
     },
     "execution_count": 22,
     "metadata": {},
     "output_type": "execute_result"
    },
    {
     "data": {
      "image/png": "[encoded data removed]",
      "text/plain": [
       "<Figure size 432x288 with 1 Axes>"
      ]
     },
     "metadata": {
      "needs_background": "light"
     },
     "output_type": "display_data"
    },
    {
     "data": {
      "image/png": "[encoded data removed]",
      "text/plain": [
       "<Figure size 360x360 with 1 Axes>"
      ]
     },
     "metadata": {
      "needs_background": "light"
     },
     "output_type": "display_data"
    }
   ],
   "source": [
    "sns.boxplot(x='quality', y='density', data=df)\n",
    "sns.catplot(x=\"reviews\", y=\"density\", kind=\"bar\", data=df).set_xlabels(\"Vine quality\")"
   ]
  },
  {
   "cell_type": "code",
   "execution_count": 23,
   "metadata": {},
   "outputs": [
    {
     "data": {
      "text/plain": [
       "<seaborn.axisgrid.FacetGrid at 0x7f99620ba3a0>"
      ]
     },
     "execution_count": 23,
     "metadata": {},
     "output_type": "execute_result"
    },
    {
     "data": {
      "image/png": "[encoded data removed]",
      "text/plain": [
       "<Figure size 432x288 with 1 Axes>"
      ]
     },
     "metadata": {
      "needs_background": "light"
     },
     "output_type": "display_data"
    },
    {
     "data": {
      "image/png": "[encoded data removed]",
      "text/plain": [
       "<Figure size 360x360 with 1 Axes>"
      ]
     },
     "metadata": {
      "needs_background": "light"
     },
     "output_type": "display_data"
    }
   ],
   "source": [
    "sns.boxplot(x='quality', y='pH', data=df)\n",
    "sns.catplot(x=\"reviews\", y=\"pH\", kind=\"bar\", data=df).set_xlabels(\"Vine quality\")"
   ]
  },
  {
   "cell_type": "code",
   "execution_count": 24,
   "metadata": {},
   "outputs": [
    {
     "data": {
      "text/plain": [
       "<seaborn.axisgrid.FacetGrid at 0x7f99612e7fd0>"
      ]
     },
     "execution_count": 24,
     "metadata": {},
     "output_type": "execute_result"
    },
    {
     "data": {
      "image/png": "[encoded data removed]",
      "text/plain": [
       "<Figure size 432x288 with 1 Axes>"
      ]
     },
     "metadata": {
      "needs_background": "light"
     },
     "output_type": "display_data"
    },
    {
     "data": {
      "image/png": "[encoded data removed]",
      "text/plain": [
       "<Figure size 360x360 with 1 Axes>"
      ]
     },
     "metadata": {
      "needs_background": "light"
     },
     "output_type": "display_data"
    }
   ],
   "source": [
    "sns.boxplot(x='quality', y='sulphates', data=df)\n",
    "sns.catplot(x=\"reviews\", y=\"sulphates\", kind=\"bar\", data=df).set_xlabels(\"Vine quality\")"
   ]
  },
  {
   "cell_type": "code",
   "execution_count": 25,
   "metadata": {
    "scrolled": false
   },
   "outputs": [
    {
     "data": {
      "text/plain": [
       "<seaborn.axisgrid.FacetGrid at 0x7f99623bdd60>"
      ]
     },
     "execution_count": 25,
     "metadata": {},
     "output_type": "execute_result"
    },
    {
     "data": {
      "image/png": "[encoded data removed]",
      "text/plain": [
       "<Figure size 432x288 with 1 Axes>"
      ]
     },
     "metadata": {
      "needs_background": "light"
     },
     "output_type": "display_data"
    },
    {
     "data": {
      "image/png": "[encoded data removed]",
      "text/plain": [
       "<Figure size 360x360 with 1 Axes>"
      ]
     },
     "metadata": {
      "needs_background": "light"
     },
     "output_type": "display_data"
    }
   ],
   "source": [
    "sns.boxplot(x='quality', y='alcohol', data=df)\n",
    "sns.catplot(x=\"reviews\", y=\"alcohol\", kind=\"bar\", data=df).set_xlabels(\"Vine quality\")"
   ]
  },
  {
   "cell_type": "markdown",
   "metadata": {},
   "source": [
    "## Utilisation d'un model de régression linéaire et définition de son accuracy"
   ]
  },
  {
   "cell_type": "code",
   "execution_count": 26,
   "metadata": {},
   "outputs": [],
   "source": [
    "# Premier échantillon où l'on drop la qualité/reviews (target)\n",
    "X = df.drop([\"quality\", \"reviews\"], axis=1)\n",
    "y = df['reviews']"
   ]
  },
  {
   "cell_type": "code",
   "execution_count": 27,
   "metadata": {},
   "outputs": [],
   "source": [
    "from sklearn.preprocessing import StandardScaler\n",
    "sc = StandardScaler()\n",
    "X_new = sc.fit_transform(X)\n",
    "y_new = df['reviews']"
   ]
  },
  {
   "cell_type": "code",
   "execution_count": 28,
   "metadata": {},
   "outputs": [
    {
     "data": {
      "text/plain": [
       "array([[-1.61952988,  0.45095009, -1.77445415, ...,  0.00509804,\n",
       "        -0.26775943,  0.04863012],\n",
       "       [-0.79916993,  1.85655306, -0.91169017, ..., -0.52070667,\n",
       "         0.06283285, -0.13814189],\n",
       "       [-0.74847909,  0.88203886, -1.17139423, ..., -0.08685693,\n",
       "        -0.18744237, -0.11822866],\n",
       "       ...,\n",
       "       [-1.45612897,  0.31174559,  1.12423941, ..., -0.80877339,\n",
       "         0.24224843, -0.40291033],\n",
       "       [-2.27051793,  0.97979111,  0.62796456, ..., -0.61224806,\n",
       "         0.77940384,  0.04092255],\n",
       "       [-0.42697475, -0.53669021,  1.6289552 , ...,  0.40430898,\n",
       "         0.77943963, -0.44978056]])"
      ]
     },
     "execution_count": 28,
     "metadata": {},
     "output_type": "execute_result"
    }
   ],
   "source": [
    "from sklearn.decomposition import PCA\n",
    "pca = PCA()\n",
    "X_pca = pca.fit_transform(X_new)\n",
    "X_pca"
   ]
  },
  {
   "cell_type": "code",
   "execution_count": 29,
   "metadata": {
    "scrolled": false
   },
   "outputs": [
    {
     "data": {
      "image/png": "[encoded data removed]",
      "text/plain": [
       "<Figure size 792x792 with 1 Axes>"
      ]
     },
     "metadata": {
      "needs_background": "light"
     },
     "output_type": "display_data"
    }
   ],
   "source": [
    "plt.figure(figsize=(11,11))\n",
    "plt.plot(np.cumsum(pca.explained_variance_ratio_), 'ro-')\n",
    "plt.grid()"
   ]
  },
  {
   "cell_type": "code",
   "execution_count": 30,
   "metadata": {},
   "outputs": [],
   "source": [
    "# Deuxième échantillon contenant uniquement les principales features (8 premières) définies à l'aide de sklearn PCA\n",
    "pca_new = PCA(n_components=8)\n",
    "X_new = pca_new.fit_transform(X_new)"
   ]
  },
  {
   "cell_type": "code",
   "execution_count": 31,
   "metadata": {},
   "outputs": [],
   "source": [
    "# Troisième échantillon où l'on drop également le pH ainsi que les la densité qui semblent ne pas affecté la qualité du vin\n",
    "X_bis = df.drop([\"quality\", \"pH\", \"density\", \"reviews\"], axis=1)\n",
    "y_bis = df['reviews']"
   ]
  },
  {
   "cell_type": "code",
   "execution_count": 32,
   "metadata": {},
   "outputs": [
    {
     "data": {
      "text/plain": [
       "LogisticRegression(max_iter=2000)"
      ]
     },
     "execution_count": 32,
     "metadata": {},
     "output_type": "execute_result"
    }
   ],
   "source": [
    "## Split des données en jeu de test et jeu d'entrainement\n",
    "X_train, X_test, y_train, y_test = train_test_split(X, y, test_size = 0.25)\n",
    "X_train_new, X_test_new, y_train_new, y_test_new = train_test_split(X_new, y_new, test_size = 0.25)\n",
    "X_train_bis, X_test_bis, y_train_bis, y_test_bis = train_test_split(X_bis, y_bis, test_size = 0.25)\n",
    "\n",
    "# Tableau vierge (avec toute les features)\n",
    "logreg = LogisticRegression(max_iter=2000)\n",
    "logreg.fit(X_train, y_train)\n",
    "\n",
    "# Tableau contenant les features que nous avons estimé être les  plus importantes grâce à notre analyse\n",
    "logreg_bis = LogisticRegression(max_iter=2000)\n",
    "logreg_bis.fit(X_train_bis, y_train_bis)\n",
    "\n",
    "# Tableau contenant les principales features déterminées par sklearn PCA\n",
    "logreg_new = LogisticRegression(max_iter=2000)\n",
    "logreg_new.fit(X_train_new, y_train_new)"
   ]
  },
  {
   "cell_type": "code",
   "execution_count": 33,
   "metadata": {},
   "outputs": [
    {
     "data": {
      "text/plain": [
       "<sklearn.metrics._plot.confusion_matrix.ConfusionMatrixDisplay at 0x7f9962539130>"
      ]
     },
     "execution_count": 33,
     "metadata": {},
     "output_type": "execute_result"
    },
    {
     "data": {
      "image/png": "[encoded data removed]",
      "text/plain": [
       "<Figure size 432x288 with 2 Axes>"
      ]
     },
     "metadata": {
      "needs_background": "light"
     },
     "output_type": "display_data"
    },
    {
     "data": {
      "image/png": "[encoded data removed]",
      "text/plain": [
       "<Figure size 432x288 with 2 Axes>"
      ]
     },
     "metadata": {
      "needs_background": "light"
     },
     "output_type": "display_data"
    },
    {
     "data": {
      "image/png": "[encoded data removed]",
      "text/plain": [
       "<Figure size 432x288 with 2 Axes>"
      ]
     },
     "metadata": {
      "needs_background": "light"
     },
     "output_type": "display_data"
    }
   ],
   "source": [
    "plot_confusion_matrix(logreg, X=X, y_true=y)\n",
    "plot_confusion_matrix(logreg_bis, X=X_bis, y_true=y_bis)\n",
    "plot_confusion_matrix(logreg_new, X=X_new, y_true=y_new)"
   ]
  },
  {
   "cell_type": "code",
   "execution_count": 34,
   "metadata": {},
   "outputs": [
    {
     "data": {
      "text/plain": [
       "1382"
      ]
     },
     "execution_count": 34,
     "metadata": {},
     "output_type": "execute_result"
    }
   ],
   "source": [
    "1343+39"
   ]
  },
  {
   "cell_type": "code",
   "execution_count": 35,
   "metadata": {},
   "outputs": [
    {
     "data": {
      "text/plain": [
       "217"
      ]
     },
     "execution_count": 35,
     "metadata": {},
     "output_type": "execute_result"
    }
   ],
   "source": [
    "152+65"
   ]
  },
  {
   "cell_type": "code",
   "execution_count": 36,
   "metadata": {},
   "outputs": [
    {
     "data": {
      "text/plain": [
       "0.8642901813633521"
      ]
     },
     "execution_count": 36,
     "metadata": {},
     "output_type": "execute_result"
    }
   ],
   "source": [
    "(1382+0)/(1382+217)"
   ]
  },
  {
   "cell_type": "code",
   "execution_count": 37,
   "metadata": {},
   "outputs": [
    {
     "data": {
      "text/plain": [
       "0.8805503439649781"
      ]
     },
     "execution_count": 37,
     "metadata": {},
     "output_type": "execute_result"
    }
   ],
   "source": [
    "(1343+65)/(152+39+1343+65)"
   ]
  },
  {
   "cell_type": "code",
   "execution_count": 38,
   "metadata": {},
   "outputs": [],
   "source": [
    "from sklearn.metrics import recall_score "
   ]
  },
  {
   "cell_type": "code",
   "execution_count": 39,
   "metadata": {},
   "outputs": [
    {
     "data": {
      "text/plain": [
       "0.7298578199052133"
      ]
     },
     "execution_count": 39,
     "metadata": {},
     "output_type": "execute_result"
    }
   ],
   "source": [
    "recall_score(y_true=y_test, y_pred=logreg.predict(X_test))"
   ]
  },
  {
   "cell_type": "code",
   "execution_count": 40,
   "metadata": {},
   "outputs": [
    {
     "data": {
      "text/plain": [
       "0.2995391705069124"
      ]
     },
     "execution_count": 40,
     "metadata": {},
     "output_type": "execute_result"
    }
   ],
   "source": [
    "65/(152+65)"
   ]
  },
  {
   "cell_type": "code",
   "execution_count": 41,
   "metadata": {
    "scrolled": true
   },
   "outputs": [
    {
     "data": {
      "text/plain": [
       "0.735"
      ]
     },
     "execution_count": 41,
     "metadata": {},
     "output_type": "execute_result"
    }
   ],
   "source": [
    "accuracy_score(y_true=y_test, y_pred=logreg.predict(X_test))"
   ]
  },
  {
   "cell_type": "code",
   "execution_count": 42,
   "metadata": {
    "scrolled": true
   },
   "outputs": [
    {
     "data": {
      "text/plain": [
       "0.7125"
      ]
     },
     "execution_count": 42,
     "metadata": {},
     "output_type": "execute_result"
    }
   ],
   "source": [
    "accuracy_score(y_true=y_test_new, y_pred=logreg_new.predict(X_test_new))"
   ]
  },
  {
   "cell_type": "code",
   "execution_count": 43,
   "metadata": {},
   "outputs": [
    {
     "data": {
      "text/plain": [
       "0.73"
      ]
     },
     "execution_count": 43,
     "metadata": {},
     "output_type": "execute_result"
    }
   ],
   "source": [
    "accuracy_score(y_true=y_test_bis, y_pred=logreg_bis.predict(X_test_bis))"
   ]
  },
  {
   "cell_type": "markdown",
   "metadata": {},
   "source": [
    "On remarque que l'accuracy est meilleure pour le deuxième jeu de données qui se base sur l'ensemble des features à l'exception de la densité et du pH"
   ]
  },
  {
   "cell_type": "code",
   "execution_count": 44,
   "metadata": {},
   "outputs": [
    {
     "data": {
      "text/plain": [
       "<sklearn.metrics._plot.confusion_matrix.ConfusionMatrixDisplay at 0x7f9961914df0>"
      ]
     },
     "execution_count": 44,
     "metadata": {},
     "output_type": "execute_result"
    },
    {
     "data": {
      "image/png": "[encoded data removed]",
      "text/plain": [
       "<Figure size 432x288 with 2 Axes>"
      ]
     },
     "metadata": {
      "needs_background": "light"
     },
     "output_type": "display_data"
    },
    {
     "data": {
      "image/png": "[encoded data removed]",
      "text/plain": [
       "<Figure size 432x288 with 2 Axes>"
      ]
     },
     "metadata": {
      "needs_background": "light"
     },
     "output_type": "display_data"
    },
    {
     "data": {
      "image/png": "[encoded data removed]",
      "text/plain": [
       "<Figure size 432x288 with 2 Axes>"
      ]
     },
     "metadata": {
      "needs_background": "light"
     },
     "output_type": "display_data"
    }
   ],
   "source": [
    "plot_confusion_matrix(logreg, X=X_test, y_true=y_test)\n",
    "plot_confusion_matrix(logreg_bis, X=X_test_bis, y_true=y_test_bis)\n",
    "plot_confusion_matrix(logreg_new, X=X_test_new, y_true=y_test_new)"
   ]
  },
  {
   "cell_type": "markdown",
   "metadata": {},
   "source": [
    "## DecisionTree"
   ]
  },
  {
   "cell_type": "code",
   "execution_count": 45,
   "metadata": {},
   "outputs": [],
   "source": [
    "from sklearn.tree import DecisionTreeRegressor, plot_tree\n",
    "\n",
    "def create_and_show_tree(data, y, estimator, ax=None):\n",
    "    if not ax:\n",
    "        fig, ax = plt.subplots(1, 1, figsize=(estimator.max_depth*5,5))\n",
    "    estimator.fit(data, y)\n",
    "    _ = plot_tree(estimator, ax=ax, fontsize=12)\n",
    "    return estimator"
   ]
  },
  {
   "cell_type": "code",
   "execution_count": 46,
   "metadata": {},
   "outputs": [
    {
     "data": {
      "text/plain": [
       "DecisionTreeRegressor(max_depth=3)"
      ]
     },
     "execution_count": 46,
     "metadata": {},
     "output_type": "execute_result"
    },
    {
     "data": {
      "image/png": "[encoded data removed]",
      "text/plain": [
       "<Figure size 1080x360 with 1 Axes>"
      ]
     },
     "metadata": {
      "needs_background": "light"
     },
     "output_type": "display_data"
    }
   ],
   "source": [
    "create_and_show_tree(X_train_bis, y_train_bis, DecisionTreeRegressor(max_depth=3) )"
   ]
  },
  {
   "cell_type": "code",
   "execution_count": null,
   "metadata": {},
   "outputs": [],
   "source": []
  },
  {
   "cell_type": "code",
   "execution_count": 47,
   "metadata": {
    "scrolled": true
   },
   "outputs": [
    {
     "data": {
      "text/plain": [
       "<sklearn.metrics._plot.confusion_matrix.ConfusionMatrixDisplay at 0x7f9962ef22e0>"
      ]
     },
     "execution_count": 47,
     "metadata": {},
     "output_type": "execute_result"
    },
    {
     "data": {
      "image/png": "[encoded data removed]",
      "text/plain": [
       "<Figure size 432x288 with 2 Axes>"
      ]
     },
     "metadata": {
      "needs_background": "light"
     },
     "output_type": "display_data"
    }
   ],
   "source": [
    "from sklearn.ensemble import GradientBoostingClassifier\n",
    "gb = GradientBoostingClassifier()\n",
    "gb.fit(X_train, y_train)\n",
    "plot_confusion_matrix(gb, X=X_test, y_true=y_test)"
   ]
  },
  {
   "cell_type": "code",
   "execution_count": 48,
   "metadata": {},
   "outputs": [
    {
     "data": {
      "text/plain": [
       "RandomForestClassifier(n_estimators=4000)"
      ]
     },
     "execution_count": 48,
     "metadata": {},
     "output_type": "execute_result"
    }
   ],
   "source": [
    "from sklearn.ensemble import RandomForestClassifier\n",
    "rf = RandomForestClassifier(n_estimators=4000)\n",
    "rf.fit(X_train, y_train)"
   ]
  },
  {
   "cell_type": "code",
   "execution_count": 49,
   "metadata": {},
   "outputs": [
    {
     "data": {
      "text/plain": [
       "<sklearn.metrics._plot.confusion_matrix.ConfusionMatrixDisplay at 0x7f99615dad30>"
      ]
     },
     "execution_count": 49,
     "metadata": {},
     "output_type": "execute_result"
    },
    {
     "data": {
      "image/png": "[encoded data removed]",
      "text/plain": [
       "<Figure size 432x288 with 2 Axes>"
      ]
     },
     "metadata": {
      "needs_background": "light"
     },
     "output_type": "display_data"
    }
   ],
   "source": [
    "plot_confusion_matrix(rf, X=X_test, y_true=y_test)"
   ]
  },
  {
   "cell_type": "code",
   "execution_count": 50,
   "metadata": {},
   "outputs": [
    {
     "data": {
      "text/plain": [
       "((1199, 11), (400, 11))"
      ]
     },
     "execution_count": 50,
     "metadata": {},
     "output_type": "execute_result"
    }
   ],
   "source": [
    "X_train.shape, X_test.shape"
   ]
  },
  {
   "cell_type": "code",
   "execution_count": 51,
   "metadata": {},
   "outputs": [
    {
     "data": {
      "text/plain": [
       "0.8225"
      ]
     },
     "execution_count": 51,
     "metadata": {},
     "output_type": "execute_result"
    }
   ],
   "source": [
    "accuracy_score(y_true=y_test, y_pred=rf.predict(X_test))"
   ]
  },
  {
   "cell_type": "code",
   "execution_count": 52,
   "metadata": {},
   "outputs": [],
   "source": [
    "## TO SEE : learning curve "
   ]
  },
  {
   "cell_type": "code",
   "execution_count": 53,
   "metadata": {},
   "outputs": [
    {
     "data": {
      "text/plain": [
       "0.8341232227488151"
      ]
     },
     "execution_count": 53,
     "metadata": {},
     "output_type": "execute_result"
    }
   ],
   "source": [
    "recall_score(y_true=y_test, y_pred=rf.predict(X_test))"
   ]
  },
  {
   "cell_type": "code",
   "execution_count": 54,
   "metadata": {},
   "outputs": [
    {
     "data": {
      "text/plain": [
       "[DecisionTreeClassifier(max_features='auto', random_state=561683954),\n",
       " DecisionTreeClassifier(max_features='auto', random_state=285390667),\n",
       " DecisionTreeClassifier(max_features='auto', random_state=1989215966),\n",
       " DecisionTreeClassifier(max_features='auto', random_state=1399688992),\n",
       " DecisionTreeClassifier(max_features='auto', random_state=459695509),\n",
       " DecisionTreeClassifier(max_features='auto', random_state=1739582605),\n",
       " DecisionTreeClassifier(max_features='auto', random_state=1371679084),\n",
       " DecisionTreeClassifier(max_features='auto', random_state=670511257),\n",
       " DecisionTreeClassifier(max_features='auto', random_state=141599822),\n",
       " DecisionTreeClassifier(max_features='auto', random_state=1259536035),\n",
       " DecisionTreeClassifier(max_features='auto', random_state=1511056538),\n",
       " DecisionTreeClassifier(max_features='auto', random_state=1228489436),\n",
       " DecisionTreeClassifier(max_features='auto', random_state=812179674),\n",
       " DecisionTreeClassifier(max_features='auto', random_state=841660295),\n",
       " DecisionTreeClassifier(max_features='auto', random_state=486456156),\n",
       " DecisionTreeClassifier(max_features='auto', random_state=1618166423),\n",
       " DecisionTreeClassifier(max_features='auto', random_state=1255861626),\n",
       " DecisionTreeClassifier(max_features='auto', random_state=898922812),\n",
       " DecisionTreeClassifier(max_features='auto', random_state=917837772),\n",
       " DecisionTreeClassifier(max_features='auto', random_state=677881702),\n",
       " DecisionTreeClassifier(max_features='auto', random_state=439730554),\n",
       " DecisionTreeClassifier(max_features='auto', random_state=967251912),\n",
       " DecisionTreeClassifier(max_features='auto', random_state=345187729),\n",
       " DecisionTreeClassifier(max_features='auto', random_state=1142544871),\n",
       " DecisionTreeClassifier(max_features='auto', random_state=1501940244),\n",
       " DecisionTreeClassifier(max_features='auto', random_state=1868273396),\n",
       " DecisionTreeClassifier(max_features='auto', random_state=1939040010),\n",
       " DecisionTreeClassifier(max_features='auto', random_state=1519057365),\n",
       " DecisionTreeClassifier(max_features='auto', random_state=1811624306),\n",
       " DecisionTreeClassifier(max_features='auto', random_state=85595772),\n",
       " DecisionTreeClassifier(max_features='auto', random_state=2030749465),\n",
       " DecisionTreeClassifier(max_features='auto', random_state=1046679907),\n",
       " DecisionTreeClassifier(max_features='auto', random_state=1174073683),\n",
       " DecisionTreeClassifier(max_features='auto', random_state=1165224612),\n",
       " DecisionTreeClassifier(max_features='auto', random_state=176518310),\n",
       " DecisionTreeClassifier(max_features='auto', random_state=647825617),\n",
       " DecisionTreeClassifier(max_features='auto', random_state=972147835),\n",
       " DecisionTreeClassifier(max_features='auto', random_state=314395672),\n",
       " DecisionTreeClassifier(max_features='auto', random_state=762051242),\n",
       " DecisionTreeClassifier(max_features='auto', random_state=823671691),\n",
       " DecisionTreeClassifier(max_features='auto', random_state=2040441680),\n",
       " DecisionTreeClassifier(max_features='auto', random_state=1988825724),\n",
       " DecisionTreeClassifier(max_features='auto', random_state=245013766),\n",
       " DecisionTreeClassifier(max_features='auto', random_state=1851279886),\n",
       " DecisionTreeClassifier(max_features='auto', random_state=1150120351),\n",
       " DecisionTreeClassifier(max_features='auto', random_state=1396790892),\n",
       " DecisionTreeClassifier(max_features='auto', random_state=1920598871),\n",
       " DecisionTreeClassifier(max_features='auto', random_state=1776627841),\n",
       " DecisionTreeClassifier(max_features='auto', random_state=759897389),\n",
       " DecisionTreeClassifier(max_features='auto', random_state=1776403706),\n",
       " DecisionTreeClassifier(max_features='auto', random_state=294200780),\n",
       " DecisionTreeClassifier(max_features='auto', random_state=863364712),\n",
       " DecisionTreeClassifier(max_features='auto', random_state=1297240141),\n",
       " DecisionTreeClassifier(max_features='auto', random_state=687407141),\n",
       " DecisionTreeClassifier(max_features='auto', random_state=615269299),\n",
       " DecisionTreeClassifier(max_features='auto', random_state=957026689),\n",
       " DecisionTreeClassifier(max_features='auto', random_state=1248301346),\n",
       " DecisionTreeClassifier(max_features='auto', random_state=1644785775),\n",
       " DecisionTreeClassifier(max_features='auto', random_state=83430949),\n",
       " DecisionTreeClassifier(max_features='auto', random_state=1320721792),\n",
       " DecisionTreeClassifier(max_features='auto', random_state=1489344147),\n",
       " DecisionTreeClassifier(max_features='auto', random_state=747170690),\n",
       " DecisionTreeClassifier(max_features='auto', random_state=1300330683),\n",
       " DecisionTreeClassifier(max_features='auto', random_state=1480738656),\n",
       " DecisionTreeClassifier(max_features='auto', random_state=1560414468),\n",
       " DecisionTreeClassifier(max_features='auto', random_state=1918340092),\n",
       " DecisionTreeClassifier(max_features='auto', random_state=457019051),\n",
       " DecisionTreeClassifier(max_features='auto', random_state=1269151906),\n",
       " DecisionTreeClassifier(max_features='auto', random_state=954342678),\n",
       " DecisionTreeClassifier(max_features='auto', random_state=925580748),\n",
       " DecisionTreeClassifier(max_features='auto', random_state=397759443),\n",
       " DecisionTreeClassifier(max_features='auto', random_state=1518580887),\n",
       " DecisionTreeClassifier(max_features='auto', random_state=411924548),\n",
       " DecisionTreeClassifier(max_features='auto', random_state=215851521),\n",
       " DecisionTreeClassifier(max_features='auto', random_state=16207622),\n",
       " DecisionTreeClassifier(max_features='auto', random_state=252504299),\n",
       " DecisionTreeClassifier(max_features='auto', random_state=526402555),\n",
       " DecisionTreeClassifier(max_features='auto', random_state=1571010143),\n",
       " DecisionTreeClassifier(max_features='auto', random_state=1538540283),\n",
       " DecisionTreeClassifier(max_features='auto', random_state=1982845128),\n",
       " DecisionTreeClassifier(max_features='auto', random_state=1505631945),\n",
       " DecisionTreeClassifier(max_features='auto', random_state=1247797382),\n",
       " DecisionTreeClassifier(max_features='auto', random_state=534898842),\n",
       " DecisionTreeClassifier(max_features='auto', random_state=551497),\n",
       " DecisionTreeClassifier(max_features='auto', random_state=449979577),\n",
       " DecisionTreeClassifier(max_features='auto', random_state=1406923378),\n",
       " DecisionTreeClassifier(max_features='auto', random_state=1475016932),\n",
       " DecisionTreeClassifier(max_features='auto', random_state=1270021206),\n",
       " DecisionTreeClassifier(max_features='auto', random_state=734680429),\n",
       " DecisionTreeClassifier(max_features='auto', random_state=1847349441),\n",
       " DecisionTreeClassifier(max_features='auto', random_state=1437421848),\n",
       " DecisionTreeClassifier(max_features='auto', random_state=1422430049),\n",
       " DecisionTreeClassifier(max_features='auto', random_state=1469276947),\n",
       " DecisionTreeClassifier(max_features='auto', random_state=512403408),\n",
       " DecisionTreeClassifier(max_features='auto', random_state=15106342),\n",
       " DecisionTreeClassifier(max_features='auto', random_state=1641958695),\n",
       " DecisionTreeClassifier(max_features='auto', random_state=292627402),\n",
       " DecisionTreeClassifier(max_features='auto', random_state=325423998),\n",
       " DecisionTreeClassifier(max_features='auto', random_state=1370875695),\n",
       " DecisionTreeClassifier(max_features='auto', random_state=1914843743),\n",
       " DecisionTreeClassifier(max_features='auto', random_state=1138322294),\n",
       " DecisionTreeClassifier(max_features='auto', random_state=1915231305),\n",
       " DecisionTreeClassifier(max_features='auto', random_state=748048496),\n",
       " DecisionTreeClassifier(max_features='auto', random_state=1261088900),\n",
       " DecisionTreeClassifier(max_features='auto', random_state=1169514582),\n",
       " DecisionTreeClassifier(max_features='auto', random_state=1846513052),\n",
       " DecisionTreeClassifier(max_features='auto', random_state=1614047575),\n",
       " DecisionTreeClassifier(max_features='auto', random_state=1107928092),\n",
       " DecisionTreeClassifier(max_features='auto', random_state=1786515697),\n",
       " DecisionTreeClassifier(max_features='auto', random_state=236007144),\n",
       " DecisionTreeClassifier(max_features='auto', random_state=477335817),\n",
       " DecisionTreeClassifier(max_features='auto', random_state=1290788474),\n",
       " DecisionTreeClassifier(max_features='auto', random_state=2134918584),\n",
       " DecisionTreeClassifier(max_features='auto', random_state=47460503),\n",
       " DecisionTreeClassifier(max_features='auto', random_state=2085407560),\n",
       " DecisionTreeClassifier(max_features='auto', random_state=357605729),\n",
       " DecisionTreeClassifier(max_features='auto', random_state=873710550),\n",
       " DecisionTreeClassifier(max_features='auto', random_state=884547819),\n",
       " DecisionTreeClassifier(max_features='auto', random_state=138866981),\n",
       " DecisionTreeClassifier(max_features='auto', random_state=64483643),\n",
       " DecisionTreeClassifier(max_features='auto', random_state=1324740324),\n",
       " DecisionTreeClassifier(max_features='auto', random_state=1856723393),\n",
       " DecisionTreeClassifier(max_features='auto', random_state=1753657880),\n",
       " DecisionTreeClassifier(max_features='auto', random_state=2004847602),\n",
       " DecisionTreeClassifier(max_features='auto', random_state=424453114),\n",
       " DecisionTreeClassifier(max_features='auto', random_state=859556696),\n",
       " DecisionTreeClassifier(max_features='auto', random_state=116806272),\n",
       " DecisionTreeClassifier(max_features='auto', random_state=613747048),\n",
       " DecisionTreeClassifier(max_features='auto', random_state=1835975861),\n",
       " DecisionTreeClassifier(max_features='auto', random_state=1922123105),\n",
       " DecisionTreeClassifier(max_features='auto', random_state=286453429),\n",
       " DecisionTreeClassifier(max_features='auto', random_state=1561473911),\n",
       " DecisionTreeClassifier(max_features='auto', random_state=759581692),\n",
       " DecisionTreeClassifier(max_features='auto', random_state=785854327),\n",
       " DecisionTreeClassifier(max_features='auto', random_state=926789558),\n",
       " DecisionTreeClassifier(max_features='auto', random_state=876685014),\n",
       " DecisionTreeClassifier(max_features='auto', random_state=1299130574),\n",
       " DecisionTreeClassifier(max_features='auto', random_state=1319374001),\n",
       " DecisionTreeClassifier(max_features='auto', random_state=1935874073),\n",
       " DecisionTreeClassifier(max_features='auto', random_state=1134360477),\n",
       " DecisionTreeClassifier(max_features='auto', random_state=2104868812),\n",
       " DecisionTreeClassifier(max_features='auto', random_state=20746153),\n",
       " DecisionTreeClassifier(max_features='auto', random_state=1355678905),\n",
       " DecisionTreeClassifier(max_features='auto', random_state=1368804531),\n",
       " DecisionTreeClassifier(max_features='auto', random_state=1018649220),\n",
       " DecisionTreeClassifier(max_features='auto', random_state=1523747363),\n",
       " DecisionTreeClassifier(max_features='auto', random_state=1544676063),\n",
       " DecisionTreeClassifier(max_features='auto', random_state=809696481),\n",
       " DecisionTreeClassifier(max_features='auto', random_state=1441237594),\n",
       " DecisionTreeClassifier(max_features='auto', random_state=908427506),\n",
       " DecisionTreeClassifier(max_features='auto', random_state=608972482),\n",
       " DecisionTreeClassifier(max_features='auto', random_state=2045811782),\n",
       " DecisionTreeClassifier(max_features='auto', random_state=982489486),\n",
       " DecisionTreeClassifier(max_features='auto', random_state=327343869),\n",
       " DecisionTreeClassifier(max_features='auto', random_state=573737060),\n",
       " DecisionTreeClassifier(max_features='auto', random_state=642778084),\n",
       " DecisionTreeClassifier(max_features='auto', random_state=1165984234),\n",
       " DecisionTreeClassifier(max_features='auto', random_state=2020771618),\n",
       " DecisionTreeClassifier(max_features='auto', random_state=454023511),\n",
       " DecisionTreeClassifier(max_features='auto', random_state=1281315407),\n",
       " DecisionTreeClassifier(max_features='auto', random_state=1263440934),\n",
       " DecisionTreeClassifier(max_features='auto', random_state=179752518),\n",
       " DecisionTreeClassifier(max_features='auto', random_state=311957134),\n",
       " DecisionTreeClassifier(max_features='auto', random_state=425246315),\n",
       " DecisionTreeClassifier(max_features='auto', random_state=1099751475),\n",
       " DecisionTreeClassifier(max_features='auto', random_state=170299428),\n",
       " DecisionTreeClassifier(max_features='auto', random_state=288284297),\n",
       " DecisionTreeClassifier(max_features='auto', random_state=1405217208),\n",
       " DecisionTreeClassifier(max_features='auto', random_state=23625218),\n",
       " DecisionTreeClassifier(max_features='auto', random_state=2008151911),\n",
       " DecisionTreeClassifier(max_features='auto', random_state=1229087756),\n",
       " DecisionTreeClassifier(max_features='auto', random_state=1345185650),\n",
       " DecisionTreeClassifier(max_features='auto', random_state=1147359055),\n",
       " DecisionTreeClassifier(max_features='auto', random_state=63652373),\n",
       " DecisionTreeClassifier(max_features='auto', random_state=1444506443),\n",
       " DecisionTreeClassifier(max_features='auto', random_state=1356829877),\n",
       " DecisionTreeClassifier(max_features='auto', random_state=125674740),\n",
       " DecisionTreeClassifier(max_features='auto', random_state=610065820),\n",
       " DecisionTreeClassifier(max_features='auto', random_state=1696219702),\n",
       " DecisionTreeClassifier(max_features='auto', random_state=2041914588),\n",
       " DecisionTreeClassifier(max_features='auto', random_state=819053772),\n",
       " DecisionTreeClassifier(max_features='auto', random_state=987650212),\n",
       " DecisionTreeClassifier(max_features='auto', random_state=1160093108),\n",
       " DecisionTreeClassifier(max_features='auto', random_state=1734297279),\n",
       " DecisionTreeClassifier(max_features='auto', random_state=1857993233),\n",
       " DecisionTreeClassifier(max_features='auto', random_state=1958221192),\n",
       " DecisionTreeClassifier(max_features='auto', random_state=543290861),\n",
       " DecisionTreeClassifier(max_features='auto', random_state=1857431808),\n",
       " DecisionTreeClassifier(max_features='auto', random_state=1850040991),\n",
       " DecisionTreeClassifier(max_features='auto', random_state=1073153145),\n",
       " DecisionTreeClassifier(max_features='auto', random_state=783949377),\n",
       " DecisionTreeClassifier(max_features='auto', random_state=1700106458),\n",
       " DecisionTreeClassifier(max_features='auto', random_state=1588873868),\n",
       " DecisionTreeClassifier(max_features='auto', random_state=720038752),\n",
       " DecisionTreeClassifier(max_features='auto', random_state=2011686365),\n",
       " DecisionTreeClassifier(max_features='auto', random_state=728267949),\n",
       " DecisionTreeClassifier(max_features='auto', random_state=403438940),\n",
       " DecisionTreeClassifier(max_features='auto', random_state=641334301),\n",
       " DecisionTreeClassifier(max_features='auto', random_state=64260222),\n",
       " DecisionTreeClassifier(max_features='auto', random_state=1612069894),\n",
       " DecisionTreeClassifier(max_features='auto', random_state=504747559),\n",
       " DecisionTreeClassifier(max_features='auto', random_state=1825724907),\n",
       " DecisionTreeClassifier(max_features='auto', random_state=731086473),\n",
       " DecisionTreeClassifier(max_features='auto', random_state=1375058758),\n",
       " DecisionTreeClassifier(max_features='auto', random_state=737547537),\n",
       " DecisionTreeClassifier(max_features='auto', random_state=1606294725),\n",
       " DecisionTreeClassifier(max_features='auto', random_state=841363247),\n",
       " DecisionTreeClassifier(max_features='auto', random_state=1361582908),\n",
       " DecisionTreeClassifier(max_features='auto', random_state=1228887569),\n",
       " DecisionTreeClassifier(max_features='auto', random_state=588089266),\n",
       " DecisionTreeClassifier(max_features='auto', random_state=421676212),\n",
       " DecisionTreeClassifier(max_features='auto', random_state=749919581),\n",
       " DecisionTreeClassifier(max_features='auto', random_state=1593985327),\n",
       " DecisionTreeClassifier(max_features='auto', random_state=975552148),\n",
       " DecisionTreeClassifier(max_features='auto', random_state=1914219723),\n",
       " DecisionTreeClassifier(max_features='auto', random_state=922441297),\n",
       " DecisionTreeClassifier(max_features='auto', random_state=431362330),\n",
       " DecisionTreeClassifier(max_features='auto', random_state=1816825952),\n",
       " DecisionTreeClassifier(max_features='auto', random_state=978295763),\n",
       " DecisionTreeClassifier(max_features='auto', random_state=1855003342),\n",
       " DecisionTreeClassifier(max_features='auto', random_state=488956476),\n",
       " DecisionTreeClassifier(max_features='auto', random_state=2129850559),\n",
       " DecisionTreeClassifier(max_features='auto', random_state=1818899227),\n",
       " DecisionTreeClassifier(max_features='auto', random_state=1542930937),\n",
       " DecisionTreeClassifier(max_features='auto', random_state=1827992385),\n",
       " DecisionTreeClassifier(max_features='auto', random_state=1131521121),\n",
       " DecisionTreeClassifier(max_features='auto', random_state=1776170891),\n",
       " DecisionTreeClassifier(max_features='auto', random_state=2069940394),\n",
       " DecisionTreeClassifier(max_features='auto', random_state=500012960),\n",
       " DecisionTreeClassifier(max_features='auto', random_state=375102284),\n",
       " DecisionTreeClassifier(max_features='auto', random_state=1113611045),\n",
       " DecisionTreeClassifier(max_features='auto', random_state=246380990),\n",
       " DecisionTreeClassifier(max_features='auto', random_state=1329711417),\n",
       " DecisionTreeClassifier(max_features='auto', random_state=1577889703),\n",
       " DecisionTreeClassifier(max_features='auto', random_state=998699974),\n",
       " DecisionTreeClassifier(max_features='auto', random_state=1009585132),\n",
       " DecisionTreeClassifier(max_features='auto', random_state=1385159585),\n",
       " DecisionTreeClassifier(max_features='auto', random_state=412616720),\n",
       " DecisionTreeClassifier(max_features='auto', random_state=1045660543),\n",
       " DecisionTreeClassifier(max_features='auto', random_state=650886087),\n",
       " DecisionTreeClassifier(max_features='auto', random_state=2126543699),\n",
       " DecisionTreeClassifier(max_features='auto', random_state=394095703),\n",
       " DecisionTreeClassifier(max_features='auto', random_state=1600834973),\n",
       " DecisionTreeClassifier(max_features='auto', random_state=1968121011),\n",
       " DecisionTreeClassifier(max_features='auto', random_state=715343168),\n",
       " DecisionTreeClassifier(max_features='auto', random_state=49215118),\n",
       " DecisionTreeClassifier(max_features='auto', random_state=845998776),\n",
       " DecisionTreeClassifier(max_features='auto', random_state=1741886286),\n",
       " DecisionTreeClassifier(max_features='auto', random_state=1036034784),\n",
       " DecisionTreeClassifier(max_features='auto', random_state=1268446319),\n",
       " DecisionTreeClassifier(max_features='auto', random_state=265255925),\n",
       " DecisionTreeClassifier(max_features='auto', random_state=477376948),\n",
       " DecisionTreeClassifier(max_features='auto', random_state=2573614),\n",
       " DecisionTreeClassifier(max_features='auto', random_state=307821480),\n",
       " DecisionTreeClassifier(max_features='auto', random_state=1602562131),\n",
       " DecisionTreeClassifier(max_features='auto', random_state=1224276405),\n",
       " DecisionTreeClassifier(max_features='auto', random_state=2117308844),\n",
       " DecisionTreeClassifier(max_features='auto', random_state=749724686),\n",
       " DecisionTreeClassifier(max_features='auto', random_state=299645123),\n",
       " DecisionTreeClassifier(max_features='auto', random_state=755292476),\n",
       " DecisionTreeClassifier(max_features='auto', random_state=217757578),\n",
       " DecisionTreeClassifier(max_features='auto', random_state=1875319735),\n",
       " DecisionTreeClassifier(max_features='auto', random_state=584734838),\n",
       " DecisionTreeClassifier(max_features='auto', random_state=301473782),\n",
       " DecisionTreeClassifier(max_features='auto', random_state=623567635),\n",
       " DecisionTreeClassifier(max_features='auto', random_state=952053734),\n",
       " DecisionTreeClassifier(max_features='auto', random_state=1035657645),\n",
       " DecisionTreeClassifier(max_features='auto', random_state=8848364),\n",
       " DecisionTreeClassifier(max_features='auto', random_state=2021008856),\n",
       " DecisionTreeClassifier(max_features='auto', random_state=704617686),\n",
       " DecisionTreeClassifier(max_features='auto', random_state=1400358865),\n",
       " DecisionTreeClassifier(max_features='auto', random_state=209507569),\n",
       " DecisionTreeClassifier(max_features='auto', random_state=2119324495),\n",
       " DecisionTreeClassifier(max_features='auto', random_state=1895822089),\n",
       " DecisionTreeClassifier(max_features='auto', random_state=916777839),\n",
       " DecisionTreeClassifier(max_features='auto', random_state=632476909),\n",
       " DecisionTreeClassifier(max_features='auto', random_state=774946947),\n",
       " DecisionTreeClassifier(max_features='auto', random_state=1085074842),\n",
       " DecisionTreeClassifier(max_features='auto', random_state=1247846550),\n",
       " DecisionTreeClassifier(max_features='auto', random_state=1036751393),\n",
       " DecisionTreeClassifier(max_features='auto', random_state=1396244983),\n",
       " DecisionTreeClassifier(max_features='auto', random_state=2141401661),\n",
       " DecisionTreeClassifier(max_features='auto', random_state=1381541302),\n",
       " DecisionTreeClassifier(max_features='auto', random_state=247731007),\n",
       " DecisionTreeClassifier(max_features='auto', random_state=1322383315),\n",
       " DecisionTreeClassifier(max_features='auto', random_state=150158373),\n",
       " DecisionTreeClassifier(max_features='auto', random_state=627007399),\n",
       " DecisionTreeClassifier(max_features='auto', random_state=2033511268),\n",
       " DecisionTreeClassifier(max_features='auto', random_state=1743736851),\n",
       " DecisionTreeClassifier(max_features='auto', random_state=1025885984),\n",
       " DecisionTreeClassifier(max_features='auto', random_state=929081859),\n",
       " DecisionTreeClassifier(max_features='auto', random_state=1913370745),\n",
       " DecisionTreeClassifier(max_features='auto', random_state=1962931479),\n",
       " DecisionTreeClassifier(max_features='auto', random_state=1315689615),\n",
       " DecisionTreeClassifier(max_features='auto', random_state=38932605),\n",
       " DecisionTreeClassifier(max_features='auto', random_state=1740254133),\n",
       " DecisionTreeClassifier(max_features='auto', random_state=971566244),\n",
       " DecisionTreeClassifier(max_features='auto', random_state=795802230),\n",
       " DecisionTreeClassifier(max_features='auto', random_state=1102779563),\n",
       " DecisionTreeClassifier(max_features='auto', random_state=191477036),\n",
       " DecisionTreeClassifier(max_features='auto', random_state=1307341150),\n",
       " DecisionTreeClassifier(max_features='auto', random_state=190802281),\n",
       " DecisionTreeClassifier(max_features='auto', random_state=1551415110),\n",
       " DecisionTreeClassifier(max_features='auto', random_state=1836726035),\n",
       " DecisionTreeClassifier(max_features='auto', random_state=164744749),\n",
       " DecisionTreeClassifier(max_features='auto', random_state=1988281057),\n",
       " DecisionTreeClassifier(max_features='auto', random_state=136275658),\n",
       " DecisionTreeClassifier(max_features='auto', random_state=332498625),\n",
       " DecisionTreeClassifier(max_features='auto', random_state=984075851),\n",
       " DecisionTreeClassifier(max_features='auto', random_state=669816593),\n",
       " DecisionTreeClassifier(max_features='auto', random_state=1425252324),\n",
       " DecisionTreeClassifier(max_features='auto', random_state=301205561),\n",
       " DecisionTreeClassifier(max_features='auto', random_state=579890485),\n",
       " DecisionTreeClassifier(max_features='auto', random_state=295595420),\n",
       " DecisionTreeClassifier(max_features='auto', random_state=1401725216),\n",
       " DecisionTreeClassifier(max_features='auto', random_state=163132729),\n",
       " DecisionTreeClassifier(max_features='auto', random_state=1184125533),\n",
       " DecisionTreeClassifier(max_features='auto', random_state=500518608),\n",
       " DecisionTreeClassifier(max_features='auto', random_state=615148418),\n",
       " DecisionTreeClassifier(max_features='auto', random_state=1898652927),\n",
       " DecisionTreeClassifier(max_features='auto', random_state=176454866),\n",
       " DecisionTreeClassifier(max_features='auto', random_state=555634745),\n",
       " DecisionTreeClassifier(max_features='auto', random_state=133050235),\n",
       " DecisionTreeClassifier(max_features='auto', random_state=741148540),\n",
       " DecisionTreeClassifier(max_features='auto', random_state=505552971),\n",
       " DecisionTreeClassifier(max_features='auto', random_state=628452143),\n",
       " DecisionTreeClassifier(max_features='auto', random_state=1025917044),\n",
       " DecisionTreeClassifier(max_features='auto', random_state=1516596004),\n",
       " DecisionTreeClassifier(max_features='auto', random_state=565318292),\n",
       " DecisionTreeClassifier(max_features='auto', random_state=1852701257),\n",
       " DecisionTreeClassifier(max_features='auto', random_state=1961089930),\n",
       " DecisionTreeClassifier(max_features='auto', random_state=1919427850),\n",
       " DecisionTreeClassifier(max_features='auto', random_state=705277685),\n",
       " DecisionTreeClassifier(max_features='auto', random_state=1717280371),\n",
       " DecisionTreeClassifier(max_features='auto', random_state=1739545243),\n",
       " DecisionTreeClassifier(max_features='auto', random_state=1736053086),\n",
       " DecisionTreeClassifier(max_features='auto', random_state=899483356),\n",
       " DecisionTreeClassifier(max_features='auto', random_state=1043772397),\n",
       " DecisionTreeClassifier(max_features='auto', random_state=452111263),\n",
       " DecisionTreeClassifier(max_features='auto', random_state=673601820),\n",
       " DecisionTreeClassifier(max_features='auto', random_state=631474558),\n",
       " DecisionTreeClassifier(max_features='auto', random_state=637230977),\n",
       " DecisionTreeClassifier(max_features='auto', random_state=491572920),\n",
       " DecisionTreeClassifier(max_features='auto', random_state=1883844072),\n",
       " DecisionTreeClassifier(max_features='auto', random_state=1778401150),\n",
       " DecisionTreeClassifier(max_features='auto', random_state=1844858730),\n",
       " DecisionTreeClassifier(max_features='auto', random_state=336813072),\n",
       " DecisionTreeClassifier(max_features='auto', random_state=751018131),\n",
       " DecisionTreeClassifier(max_features='auto', random_state=373237455),\n",
       " DecisionTreeClassifier(max_features='auto', random_state=1809323154),\n",
       " DecisionTreeClassifier(max_features='auto', random_state=1022301959),\n",
       " DecisionTreeClassifier(max_features='auto', random_state=774782904),\n",
       " DecisionTreeClassifier(max_features='auto', random_state=1566511239),\n",
       " DecisionTreeClassifier(max_features='auto', random_state=1725622083),\n",
       " DecisionTreeClassifier(max_features='auto', random_state=1918762304),\n",
       " DecisionTreeClassifier(max_features='auto', random_state=1501561349),\n",
       " DecisionTreeClassifier(max_features='auto', random_state=983759134),\n",
       " DecisionTreeClassifier(max_features='auto', random_state=613916539),\n",
       " DecisionTreeClassifier(max_features='auto', random_state=1592478618),\n",
       " DecisionTreeClassifier(max_features='auto', random_state=583442697),\n",
       " DecisionTreeClassifier(max_features='auto', random_state=1741137266),\n",
       " DecisionTreeClassifier(max_features='auto', random_state=1226983011),\n",
       " DecisionTreeClassifier(max_features='auto', random_state=388227443),\n",
       " DecisionTreeClassifier(max_features='auto', random_state=1370832487),\n",
       " DecisionTreeClassifier(max_features='auto', random_state=836572309),\n",
       " DecisionTreeClassifier(max_features='auto', random_state=979699700),\n",
       " DecisionTreeClassifier(max_features='auto', random_state=420228244),\n",
       " DecisionTreeClassifier(max_features='auto', random_state=1502518593),\n",
       " DecisionTreeClassifier(max_features='auto', random_state=1744577772),\n",
       " DecisionTreeClassifier(max_features='auto', random_state=295776626),\n",
       " DecisionTreeClassifier(max_features='auto', random_state=525664919),\n",
       " DecisionTreeClassifier(max_features='auto', random_state=1789339180),\n",
       " DecisionTreeClassifier(max_features='auto', random_state=53453758),\n",
       " DecisionTreeClassifier(max_features='auto', random_state=2142330391),\n",
       " DecisionTreeClassifier(max_features='auto', random_state=132983952),\n",
       " DecisionTreeClassifier(max_features='auto', random_state=1509601806),\n",
       " DecisionTreeClassifier(max_features='auto', random_state=576278587),\n",
       " DecisionTreeClassifier(max_features='auto', random_state=1584446403),\n",
       " DecisionTreeClassifier(max_features='auto', random_state=386632946),\n",
       " DecisionTreeClassifier(max_features='auto', random_state=1010890456),\n",
       " DecisionTreeClassifier(max_features='auto', random_state=1910612923),\n",
       " DecisionTreeClassifier(max_features='auto', random_state=1830078421),\n",
       " DecisionTreeClassifier(max_features='auto', random_state=28845452),\n",
       " DecisionTreeClassifier(max_features='auto', random_state=7926440),\n",
       " DecisionTreeClassifier(max_features='auto', random_state=482611379),\n",
       " DecisionTreeClassifier(max_features='auto', random_state=1097176172),\n",
       " DecisionTreeClassifier(max_features='auto', random_state=256787319),\n",
       " DecisionTreeClassifier(max_features='auto', random_state=139530999),\n",
       " DecisionTreeClassifier(max_features='auto', random_state=99206161),\n",
       " DecisionTreeClassifier(max_features='auto', random_state=883272487),\n",
       " DecisionTreeClassifier(max_features='auto', random_state=555574865),\n",
       " DecisionTreeClassifier(max_features='auto', random_state=240160338),\n",
       " DecisionTreeClassifier(max_features='auto', random_state=1743474500),\n",
       " DecisionTreeClassifier(max_features='auto', random_state=1584010527),\n",
       " DecisionTreeClassifier(max_features='auto', random_state=839502935),\n",
       " DecisionTreeClassifier(max_features='auto', random_state=1196249223),\n",
       " DecisionTreeClassifier(max_features='auto', random_state=1783848015),\n",
       " DecisionTreeClassifier(max_features='auto', random_state=130259676),\n",
       " DecisionTreeClassifier(max_features='auto', random_state=2103965385),\n",
       " DecisionTreeClassifier(max_features='auto', random_state=2103197205),\n",
       " DecisionTreeClassifier(max_features='auto', random_state=1805772071),\n",
       " DecisionTreeClassifier(max_features='auto', random_state=714574947),\n",
       " DecisionTreeClassifier(max_features='auto', random_state=776230382),\n",
       " DecisionTreeClassifier(max_features='auto', random_state=2086183667),\n",
       " DecisionTreeClassifier(max_features='auto', random_state=114752025),\n",
       " DecisionTreeClassifier(max_features='auto', random_state=38805867),\n",
       " DecisionTreeClassifier(max_features='auto', random_state=866330481),\n",
       " DecisionTreeClassifier(max_features='auto', random_state=35870202),\n",
       " DecisionTreeClassifier(max_features='auto', random_state=538807793),\n",
       " DecisionTreeClassifier(max_features='auto', random_state=1795301577),\n",
       " DecisionTreeClassifier(max_features='auto', random_state=935818073),\n",
       " DecisionTreeClassifier(max_features='auto', random_state=42159630),\n",
       " DecisionTreeClassifier(max_features='auto', random_state=258096996),\n",
       " DecisionTreeClassifier(max_features='auto', random_state=166936211),\n",
       " DecisionTreeClassifier(max_features='auto', random_state=771526954),\n",
       " DecisionTreeClassifier(max_features='auto', random_state=1444182261),\n",
       " DecisionTreeClassifier(max_features='auto', random_state=1236524970),\n",
       " DecisionTreeClassifier(max_features='auto', random_state=1570734719),\n",
       " DecisionTreeClassifier(max_features='auto', random_state=725873722),\n",
       " DecisionTreeClassifier(max_features='auto', random_state=48938815),\n",
       " DecisionTreeClassifier(max_features='auto', random_state=562867877),\n",
       " DecisionTreeClassifier(max_features='auto', random_state=1160789220),\n",
       " DecisionTreeClassifier(max_features='auto', random_state=221128028),\n",
       " DecisionTreeClassifier(max_features='auto', random_state=532130037),\n",
       " DecisionTreeClassifier(max_features='auto', random_state=47143872),\n",
       " DecisionTreeClassifier(max_features='auto', random_state=1516820207),\n",
       " DecisionTreeClassifier(max_features='auto', random_state=1833296611),\n",
       " DecisionTreeClassifier(max_features='auto', random_state=300061995),\n",
       " DecisionTreeClassifier(max_features='auto', random_state=375483373),\n",
       " DecisionTreeClassifier(max_features='auto', random_state=694059564),\n",
       " DecisionTreeClassifier(max_features='auto', random_state=1035424333),\n",
       " DecisionTreeClassifier(max_features='auto', random_state=1361559808),\n",
       " DecisionTreeClassifier(max_features='auto', random_state=584027222),\n",
       " DecisionTreeClassifier(max_features='auto', random_state=1503940276),\n",
       " DecisionTreeClassifier(max_features='auto', random_state=642807771),\n",
       " DecisionTreeClassifier(max_features='auto', random_state=1124692957),\n",
       " DecisionTreeClassifier(max_features='auto', random_state=947977722),\n",
       " DecisionTreeClassifier(max_features='auto', random_state=1036234832),\n",
       " DecisionTreeClassifier(max_features='auto', random_state=1231521674),\n",
       " DecisionTreeClassifier(max_features='auto', random_state=1211282994),\n",
       " DecisionTreeClassifier(max_features='auto', random_state=467533790),\n",
       " DecisionTreeClassifier(max_features='auto', random_state=1711440012),\n",
       " DecisionTreeClassifier(max_features='auto', random_state=237389067),\n",
       " DecisionTreeClassifier(max_features='auto', random_state=877159086),\n",
       " DecisionTreeClassifier(max_features='auto', random_state=345032913),\n",
       " DecisionTreeClassifier(max_features='auto', random_state=488496945),\n",
       " DecisionTreeClassifier(max_features='auto', random_state=55441887),\n",
       " DecisionTreeClassifier(max_features='auto', random_state=16148667),\n",
       " DecisionTreeClassifier(max_features='auto', random_state=869012198),\n",
       " DecisionTreeClassifier(max_features='auto', random_state=2038478059),\n",
       " DecisionTreeClassifier(max_features='auto', random_state=345121448),\n",
       " DecisionTreeClassifier(max_features='auto', random_state=576587823),\n",
       " DecisionTreeClassifier(max_features='auto', random_state=1697991095),\n",
       " DecisionTreeClassifier(max_features='auto', random_state=2011550573),\n",
       " DecisionTreeClassifier(max_features='auto', random_state=1874854820),\n",
       " DecisionTreeClassifier(max_features='auto', random_state=30297558),\n",
       " DecisionTreeClassifier(max_features='auto', random_state=1649807764),\n",
       " DecisionTreeClassifier(max_features='auto', random_state=1695103461),\n",
       " DecisionTreeClassifier(max_features='auto', random_state=1876299106),\n",
       " DecisionTreeClassifier(max_features='auto', random_state=390475000),\n",
       " DecisionTreeClassifier(max_features='auto', random_state=345947921),\n",
       " DecisionTreeClassifier(max_features='auto', random_state=969562781),\n",
       " DecisionTreeClassifier(max_features='auto', random_state=1110168466),\n",
       " DecisionTreeClassifier(max_features='auto', random_state=524404654),\n",
       " DecisionTreeClassifier(max_features='auto', random_state=854317305),\n",
       " DecisionTreeClassifier(max_features='auto', random_state=1472318709),\n",
       " DecisionTreeClassifier(max_features='auto', random_state=1685794817),\n",
       " DecisionTreeClassifier(max_features='auto', random_state=1593168711),\n",
       " DecisionTreeClassifier(max_features='auto', random_state=1087880920),\n",
       " DecisionTreeClassifier(max_features='auto', random_state=1065928229),\n",
       " DecisionTreeClassifier(max_features='auto', random_state=379560278),\n",
       " DecisionTreeClassifier(max_features='auto', random_state=1470382429),\n",
       " DecisionTreeClassifier(max_features='auto', random_state=29488899),\n",
       " DecisionTreeClassifier(max_features='auto', random_state=107199193),\n",
       " DecisionTreeClassifier(max_features='auto', random_state=281535971),\n",
       " DecisionTreeClassifier(max_features='auto', random_state=209928722),\n",
       " DecisionTreeClassifier(max_features='auto', random_state=481196694),\n",
       " DecisionTreeClassifier(max_features='auto', random_state=920890921),\n",
       " DecisionTreeClassifier(max_features='auto', random_state=156828859),\n",
       " DecisionTreeClassifier(max_features='auto', random_state=1419585339),\n",
       " DecisionTreeClassifier(max_features='auto', random_state=261113992),\n",
       " DecisionTreeClassifier(max_features='auto', random_state=2089400603),\n",
       " DecisionTreeClassifier(max_features='auto', random_state=113323179),\n",
       " DecisionTreeClassifier(max_features='auto', random_state=280287415),\n",
       " DecisionTreeClassifier(max_features='auto', random_state=1686089952),\n",
       " DecisionTreeClassifier(max_features='auto', random_state=978347256),\n",
       " DecisionTreeClassifier(max_features='auto', random_state=891920515),\n",
       " DecisionTreeClassifier(max_features='auto', random_state=2039350987),\n",
       " DecisionTreeClassifier(max_features='auto', random_state=1768321981),\n",
       " DecisionTreeClassifier(max_features='auto', random_state=1347318820),\n",
       " DecisionTreeClassifier(max_features='auto', random_state=1389288934),\n",
       " DecisionTreeClassifier(max_features='auto', random_state=1467606298),\n",
       " DecisionTreeClassifier(max_features='auto', random_state=521756402),\n",
       " DecisionTreeClassifier(max_features='auto', random_state=625045030),\n",
       " DecisionTreeClassifier(max_features='auto', random_state=1518360965),\n",
       " DecisionTreeClassifier(max_features='auto', random_state=1605421133),\n",
       " DecisionTreeClassifier(max_features='auto', random_state=1067815996),\n",
       " DecisionTreeClassifier(max_features='auto', random_state=969876667),\n",
       " DecisionTreeClassifier(max_features='auto', random_state=1488335353),\n",
       " DecisionTreeClassifier(max_features='auto', random_state=776878332),\n",
       " DecisionTreeClassifier(max_features='auto', random_state=1661229345),\n",
       " DecisionTreeClassifier(max_features='auto', random_state=1851012914),\n",
       " DecisionTreeClassifier(max_features='auto', random_state=2027396204),\n",
       " DecisionTreeClassifier(max_features='auto', random_state=2112758513),\n",
       " DecisionTreeClassifier(max_features='auto', random_state=603871317),\n",
       " DecisionTreeClassifier(max_features='auto', random_state=845869317),\n",
       " DecisionTreeClassifier(max_features='auto', random_state=2064393198),\n",
       " DecisionTreeClassifier(max_features='auto', random_state=1651243040),\n",
       " DecisionTreeClassifier(max_features='auto', random_state=1153603482),\n",
       " DecisionTreeClassifier(max_features='auto', random_state=1829886609),\n",
       " DecisionTreeClassifier(max_features='auto', random_state=1068747950),\n",
       " DecisionTreeClassifier(max_features='auto', random_state=1400326507),\n",
       " DecisionTreeClassifier(max_features='auto', random_state=754935305),\n",
       " DecisionTreeClassifier(max_features='auto', random_state=812907320),\n",
       " DecisionTreeClassifier(max_features='auto', random_state=1114187775),\n",
       " DecisionTreeClassifier(max_features='auto', random_state=1772709210),\n",
       " DecisionTreeClassifier(max_features='auto', random_state=127496868),\n",
       " DecisionTreeClassifier(max_features='auto', random_state=607973930),\n",
       " DecisionTreeClassifier(max_features='auto', random_state=622502916),\n",
       " DecisionTreeClassifier(max_features='auto', random_state=199687621),\n",
       " DecisionTreeClassifier(max_features='auto', random_state=1515719447),\n",
       " DecisionTreeClassifier(max_features='auto', random_state=837310439),\n",
       " DecisionTreeClassifier(max_features='auto', random_state=1555590578),\n",
       " DecisionTreeClassifier(max_features='auto', random_state=1985948642),\n",
       " DecisionTreeClassifier(max_features='auto', random_state=1193765431),\n",
       " DecisionTreeClassifier(max_features='auto', random_state=126620648),\n",
       " DecisionTreeClassifier(max_features='auto', random_state=1448360229),\n",
       " DecisionTreeClassifier(max_features='auto', random_state=613938494),\n",
       " DecisionTreeClassifier(max_features='auto', random_state=1769340430),\n",
       " DecisionTreeClassifier(max_features='auto', random_state=928892848),\n",
       " DecisionTreeClassifier(max_features='auto', random_state=1359748509),\n",
       " DecisionTreeClassifier(max_features='auto', random_state=2022719637),\n",
       " DecisionTreeClassifier(max_features='auto', random_state=823619227),\n",
       " DecisionTreeClassifier(max_features='auto', random_state=1866997459),\n",
       " DecisionTreeClassifier(max_features='auto', random_state=312671818),\n",
       " DecisionTreeClassifier(max_features='auto', random_state=1259603723),\n",
       " DecisionTreeClassifier(max_features='auto', random_state=1620002174),\n",
       " DecisionTreeClassifier(max_features='auto', random_state=1178645118),\n",
       " DecisionTreeClassifier(max_features='auto', random_state=1918878524),\n",
       " DecisionTreeClassifier(max_features='auto', random_state=1303315332),\n",
       " DecisionTreeClassifier(max_features='auto', random_state=1847385143),\n",
       " DecisionTreeClassifier(max_features='auto', random_state=145910683),\n",
       " DecisionTreeClassifier(max_features='auto', random_state=341754622),\n",
       " DecisionTreeClassifier(max_features='auto', random_state=154610074),\n",
       " DecisionTreeClassifier(max_features='auto', random_state=1833133666),\n",
       " DecisionTreeClassifier(max_features='auto', random_state=319477675),\n",
       " DecisionTreeClassifier(max_features='auto', random_state=746565790),\n",
       " DecisionTreeClassifier(max_features='auto', random_state=1448505842),\n",
       " DecisionTreeClassifier(max_features='auto', random_state=1891489968),\n",
       " DecisionTreeClassifier(max_features='auto', random_state=1828300695),\n",
       " DecisionTreeClassifier(max_features='auto', random_state=2007735971),\n",
       " DecisionTreeClassifier(max_features='auto', random_state=1307469016),\n",
       " DecisionTreeClassifier(max_features='auto', random_state=482435426),\n",
       " DecisionTreeClassifier(max_features='auto', random_state=168556500),\n",
       " DecisionTreeClassifier(max_features='auto', random_state=445871893),\n",
       " DecisionTreeClassifier(max_features='auto', random_state=2106351376),\n",
       " DecisionTreeClassifier(max_features='auto', random_state=567347052),\n",
       " DecisionTreeClassifier(max_features='auto', random_state=475066726),\n",
       " DecisionTreeClassifier(max_features='auto', random_state=546173497),\n",
       " DecisionTreeClassifier(max_features='auto', random_state=571217019),\n",
       " DecisionTreeClassifier(max_features='auto', random_state=1385145814),\n",
       " DecisionTreeClassifier(max_features='auto', random_state=2062892413),\n",
       " DecisionTreeClassifier(max_features='auto', random_state=1913721035),\n",
       " DecisionTreeClassifier(max_features='auto', random_state=1011027639),\n",
       " DecisionTreeClassifier(max_features='auto', random_state=780423039),\n",
       " DecisionTreeClassifier(max_features='auto', random_state=1672353315),\n",
       " DecisionTreeClassifier(max_features='auto', random_state=1886545071),\n",
       " DecisionTreeClassifier(max_features='auto', random_state=1747013381),\n",
       " DecisionTreeClassifier(max_features='auto', random_state=170669480),\n",
       " DecisionTreeClassifier(max_features='auto', random_state=196498663),\n",
       " DecisionTreeClassifier(max_features='auto', random_state=501746750),\n",
       " DecisionTreeClassifier(max_features='auto', random_state=990112015),\n",
       " DecisionTreeClassifier(max_features='auto', random_state=1686124294),\n",
       " DecisionTreeClassifier(max_features='auto', random_state=62657156),\n",
       " DecisionTreeClassifier(max_features='auto', random_state=1105814959),\n",
       " DecisionTreeClassifier(max_features='auto', random_state=1727850156),\n",
       " DecisionTreeClassifier(max_features='auto', random_state=717785575),\n",
       " DecisionTreeClassifier(max_features='auto', random_state=753578303),\n",
       " DecisionTreeClassifier(max_features='auto', random_state=2016797835),\n",
       " DecisionTreeClassifier(max_features='auto', random_state=1410224858),\n",
       " DecisionTreeClassifier(max_features='auto', random_state=1818443514),\n",
       " DecisionTreeClassifier(max_features='auto', random_state=851125410),\n",
       " DecisionTreeClassifier(max_features='auto', random_state=878591953),\n",
       " DecisionTreeClassifier(max_features='auto', random_state=1273835223),\n",
       " DecisionTreeClassifier(max_features='auto', random_state=117038016),\n",
       " DecisionTreeClassifier(max_features='auto', random_state=1931589332),\n",
       " DecisionTreeClassifier(max_features='auto', random_state=1533973360),\n",
       " DecisionTreeClassifier(max_features='auto', random_state=420541841),\n",
       " DecisionTreeClassifier(max_features='auto', random_state=1699153291),\n",
       " DecisionTreeClassifier(max_features='auto', random_state=1839993738),\n",
       " DecisionTreeClassifier(max_features='auto', random_state=1980633722),\n",
       " DecisionTreeClassifier(max_features='auto', random_state=1609771213),\n",
       " DecisionTreeClassifier(max_features='auto', random_state=1554788860),\n",
       " DecisionTreeClassifier(max_features='auto', random_state=1218338834),\n",
       " DecisionTreeClassifier(max_features='auto', random_state=1097655693),\n",
       " DecisionTreeClassifier(max_features='auto', random_state=1625541922),\n",
       " DecisionTreeClassifier(max_features='auto', random_state=1010067848),\n",
       " DecisionTreeClassifier(max_features='auto', random_state=618501319),\n",
       " DecisionTreeClassifier(max_features='auto', random_state=1358203386),\n",
       " DecisionTreeClassifier(max_features='auto', random_state=284347962),\n",
       " DecisionTreeClassifier(max_features='auto', random_state=1305480602),\n",
       " DecisionTreeClassifier(max_features='auto', random_state=194100155),\n",
       " DecisionTreeClassifier(max_features='auto', random_state=924566968),\n",
       " DecisionTreeClassifier(max_features='auto', random_state=789503143),\n",
       " DecisionTreeClassifier(max_features='auto', random_state=2146098852),\n",
       " DecisionTreeClassifier(max_features='auto', random_state=832094981),\n",
       " DecisionTreeClassifier(max_features='auto', random_state=1541917015),\n",
       " DecisionTreeClassifier(max_features='auto', random_state=1740363365),\n",
       " DecisionTreeClassifier(max_features='auto', random_state=85784373),\n",
       " DecisionTreeClassifier(max_features='auto', random_state=1741789041),\n",
       " DecisionTreeClassifier(max_features='auto', random_state=2049046581),\n",
       " DecisionTreeClassifier(max_features='auto', random_state=983624073),\n",
       " DecisionTreeClassifier(max_features='auto', random_state=790608429),\n",
       " DecisionTreeClassifier(max_features='auto', random_state=239329193),\n",
       " DecisionTreeClassifier(max_features='auto', random_state=444270642),\n",
       " DecisionTreeClassifier(max_features='auto', random_state=303249233),\n",
       " DecisionTreeClassifier(max_features='auto', random_state=1121192616),\n",
       " DecisionTreeClassifier(max_features='auto', random_state=277185307),\n",
       " DecisionTreeClassifier(max_features='auto', random_state=1471082520),\n",
       " DecisionTreeClassifier(max_features='auto', random_state=156206084),\n",
       " DecisionTreeClassifier(max_features='auto', random_state=1265681352),\n",
       " DecisionTreeClassifier(max_features='auto', random_state=1363283598),\n",
       " DecisionTreeClassifier(max_features='auto', random_state=1186101131),\n",
       " DecisionTreeClassifier(max_features='auto', random_state=293556562),\n",
       " DecisionTreeClassifier(max_features='auto', random_state=1378186153),\n",
       " DecisionTreeClassifier(max_features='auto', random_state=1459550299),\n",
       " DecisionTreeClassifier(max_features='auto', random_state=832867350),\n",
       " DecisionTreeClassifier(max_features='auto', random_state=874272551),\n",
       " DecisionTreeClassifier(max_features='auto', random_state=649149529),\n",
       " DecisionTreeClassifier(max_features='auto', random_state=1915365755),\n",
       " DecisionTreeClassifier(max_features='auto', random_state=455630493),\n",
       " DecisionTreeClassifier(max_features='auto', random_state=1713201355),\n",
       " DecisionTreeClassifier(max_features='auto', random_state=943353858),\n",
       " DecisionTreeClassifier(max_features='auto', random_state=131487459),\n",
       " DecisionTreeClassifier(max_features='auto', random_state=441199201),\n",
       " DecisionTreeClassifier(max_features='auto', random_state=1504972978),\n",
       " DecisionTreeClassifier(max_features='auto', random_state=447488100),\n",
       " DecisionTreeClassifier(max_features='auto', random_state=299231589),\n",
       " DecisionTreeClassifier(max_features='auto', random_state=742971449),\n",
       " DecisionTreeClassifier(max_features='auto', random_state=1813761045),\n",
       " DecisionTreeClassifier(max_features='auto', random_state=1974135456),\n",
       " DecisionTreeClassifier(max_features='auto', random_state=2058621320),\n",
       " DecisionTreeClassifier(max_features='auto', random_state=1296498711),\n",
       " DecisionTreeClassifier(max_features='auto', random_state=1711037058),\n",
       " DecisionTreeClassifier(max_features='auto', random_state=1332844317),\n",
       " DecisionTreeClassifier(max_features='auto', random_state=1034382489),\n",
       " DecisionTreeClassifier(max_features='auto', random_state=1600368932),\n",
       " DecisionTreeClassifier(max_features='auto', random_state=1533113188),\n",
       " DecisionTreeClassifier(max_features='auto', random_state=259493988),\n",
       " DecisionTreeClassifier(max_features='auto', random_state=1476707425),\n",
       " DecisionTreeClassifier(max_features='auto', random_state=18195750),\n",
       " DecisionTreeClassifier(max_features='auto', random_state=1864266043),\n",
       " DecisionTreeClassifier(max_features='auto', random_state=1965656610),\n",
       " DecisionTreeClassifier(max_features='auto', random_state=1730594838),\n",
       " DecisionTreeClassifier(max_features='auto', random_state=3482339),\n",
       " DecisionTreeClassifier(max_features='auto', random_state=2033527150),\n",
       " DecisionTreeClassifier(max_features='auto', random_state=1207356723),\n",
       " DecisionTreeClassifier(max_features='auto', random_state=354617314),\n",
       " DecisionTreeClassifier(max_features='auto', random_state=757859129),\n",
       " DecisionTreeClassifier(max_features='auto', random_state=1918265523),\n",
       " DecisionTreeClassifier(max_features='auto', random_state=739381003),\n",
       " DecisionTreeClassifier(max_features='auto', random_state=1080150703),\n",
       " DecisionTreeClassifier(max_features='auto', random_state=715924242),\n",
       " DecisionTreeClassifier(max_features='auto', random_state=388305921),\n",
       " DecisionTreeClassifier(max_features='auto', random_state=913920209),\n",
       " DecisionTreeClassifier(max_features='auto', random_state=296797935),\n",
       " DecisionTreeClassifier(max_features='auto', random_state=70441470),\n",
       " DecisionTreeClassifier(max_features='auto', random_state=1093251444),\n",
       " DecisionTreeClassifier(max_features='auto', random_state=1385107953),\n",
       " DecisionTreeClassifier(max_features='auto', random_state=1538338762),\n",
       " DecisionTreeClassifier(max_features='auto', random_state=857419599),\n",
       " DecisionTreeClassifier(max_features='auto', random_state=1474846448),\n",
       " DecisionTreeClassifier(max_features='auto', random_state=204526066),\n",
       " DecisionTreeClassifier(max_features='auto', random_state=208655881),\n",
       " DecisionTreeClassifier(max_features='auto', random_state=22778058),\n",
       " DecisionTreeClassifier(max_features='auto', random_state=1055482979),\n",
       " DecisionTreeClassifier(max_features='auto', random_state=1128132288),\n",
       " DecisionTreeClassifier(max_features='auto', random_state=65676858),\n",
       " DecisionTreeClassifier(max_features='auto', random_state=1906714297),\n",
       " DecisionTreeClassifier(max_features='auto', random_state=374684987),\n",
       " DecisionTreeClassifier(max_features='auto', random_state=1884134136),\n",
       " DecisionTreeClassifier(max_features='auto', random_state=729101453),\n",
       " DecisionTreeClassifier(max_features='auto', random_state=342803296),\n",
       " DecisionTreeClassifier(max_features='auto', random_state=1164238985),\n",
       " DecisionTreeClassifier(max_features='auto', random_state=30576074),\n",
       " DecisionTreeClassifier(max_features='auto', random_state=1375147662),\n",
       " DecisionTreeClassifier(max_features='auto', random_state=660902145),\n",
       " DecisionTreeClassifier(max_features='auto', random_state=1124823455),\n",
       " DecisionTreeClassifier(max_features='auto', random_state=810670863),\n",
       " DecisionTreeClassifier(max_features='auto', random_state=2030695713),\n",
       " DecisionTreeClassifier(max_features='auto', random_state=938023009),\n",
       " DecisionTreeClassifier(max_features='auto', random_state=1640266092),\n",
       " DecisionTreeClassifier(max_features='auto', random_state=1083535523),\n",
       " DecisionTreeClassifier(max_features='auto', random_state=905229053),\n",
       " DecisionTreeClassifier(max_features='auto', random_state=97971229),\n",
       " DecisionTreeClassifier(max_features='auto', random_state=517091242),\n",
       " DecisionTreeClassifier(max_features='auto', random_state=1880395152),\n",
       " DecisionTreeClassifier(max_features='auto', random_state=1303742856),\n",
       " DecisionTreeClassifier(max_features='auto', random_state=1468508552),\n",
       " DecisionTreeClassifier(max_features='auto', random_state=3796396),\n",
       " DecisionTreeClassifier(max_features='auto', random_state=920186597),\n",
       " DecisionTreeClassifier(max_features='auto', random_state=1681975113),\n",
       " DecisionTreeClassifier(max_features='auto', random_state=159315212),\n",
       " DecisionTreeClassifier(max_features='auto', random_state=545937484),\n",
       " DecisionTreeClassifier(max_features='auto', random_state=341863361),\n",
       " DecisionTreeClassifier(max_features='auto', random_state=1776001962),\n",
       " DecisionTreeClassifier(max_features='auto', random_state=1322988623),\n",
       " DecisionTreeClassifier(max_features='auto', random_state=526933232),\n",
       " DecisionTreeClassifier(max_features='auto', random_state=1139635328),\n",
       " DecisionTreeClassifier(max_features='auto', random_state=29564516),\n",
       " DecisionTreeClassifier(max_features='auto', random_state=2040772911),\n",
       " DecisionTreeClassifier(max_features='auto', random_state=124109353),\n",
       " DecisionTreeClassifier(max_features='auto', random_state=1234893152),\n",
       " DecisionTreeClassifier(max_features='auto', random_state=841808626),\n",
       " DecisionTreeClassifier(max_features='auto', random_state=2047580810),\n",
       " DecisionTreeClassifier(max_features='auto', random_state=5951305),\n",
       " DecisionTreeClassifier(max_features='auto', random_state=367475191),\n",
       " DecisionTreeClassifier(max_features='auto', random_state=1615393800),\n",
       " DecisionTreeClassifier(max_features='auto', random_state=1049977984),\n",
       " DecisionTreeClassifier(max_features='auto', random_state=903131658),\n",
       " DecisionTreeClassifier(max_features='auto', random_state=1932340455),\n",
       " DecisionTreeClassifier(max_features='auto', random_state=86697806),\n",
       " DecisionTreeClassifier(max_features='auto', random_state=1205414325),\n",
       " DecisionTreeClassifier(max_features='auto', random_state=503092259),\n",
       " DecisionTreeClassifier(max_features='auto', random_state=1387470533),\n",
       " DecisionTreeClassifier(max_features='auto', random_state=981098912),\n",
       " DecisionTreeClassifier(max_features='auto', random_state=70402756),\n",
       " DecisionTreeClassifier(max_features='auto', random_state=84763063),\n",
       " DecisionTreeClassifier(max_features='auto', random_state=1697721965),\n",
       " DecisionTreeClassifier(max_features='auto', random_state=2022830160),\n",
       " DecisionTreeClassifier(max_features='auto', random_state=1965038148),\n",
       " DecisionTreeClassifier(max_features='auto', random_state=1133202687),\n",
       " DecisionTreeClassifier(max_features='auto', random_state=1777794333),\n",
       " DecisionTreeClassifier(max_features='auto', random_state=696314119),\n",
       " DecisionTreeClassifier(max_features='auto', random_state=404854043),\n",
       " DecisionTreeClassifier(max_features='auto', random_state=1064864832),\n",
       " DecisionTreeClassifier(max_features='auto', random_state=1202456038),\n",
       " DecisionTreeClassifier(max_features='auto', random_state=1140440401),\n",
       " DecisionTreeClassifier(max_features='auto', random_state=32121494),\n",
       " DecisionTreeClassifier(max_features='auto', random_state=2033754257),\n",
       " DecisionTreeClassifier(max_features='auto', random_state=1872481833),\n",
       " DecisionTreeClassifier(max_features='auto', random_state=1533079662),\n",
       " DecisionTreeClassifier(max_features='auto', random_state=445370613),\n",
       " DecisionTreeClassifier(max_features='auto', random_state=928125235),\n",
       " DecisionTreeClassifier(max_features='auto', random_state=943098260),\n",
       " DecisionTreeClassifier(max_features='auto', random_state=351264805),\n",
       " DecisionTreeClassifier(max_features='auto', random_state=1860179666),\n",
       " DecisionTreeClassifier(max_features='auto', random_state=6935110),\n",
       " DecisionTreeClassifier(max_features='auto', random_state=2049386006),\n",
       " DecisionTreeClassifier(max_features='auto', random_state=1900941841),\n",
       " DecisionTreeClassifier(max_features='auto', random_state=1586714110),\n",
       " DecisionTreeClassifier(max_features='auto', random_state=2026682099),\n",
       " DecisionTreeClassifier(max_features='auto', random_state=1869087034),\n",
       " DecisionTreeClassifier(max_features='auto', random_state=769428406),\n",
       " DecisionTreeClassifier(max_features='auto', random_state=2018847134),\n",
       " DecisionTreeClassifier(max_features='auto', random_state=335035634),\n",
       " DecisionTreeClassifier(max_features='auto', random_state=700863223),\n",
       " DecisionTreeClassifier(max_features='auto', random_state=1043934821),\n",
       " DecisionTreeClassifier(max_features='auto', random_state=1968464590),\n",
       " DecisionTreeClassifier(max_features='auto', random_state=2030543893),\n",
       " DecisionTreeClassifier(max_features='auto', random_state=1535884582),\n",
       " DecisionTreeClassifier(max_features='auto', random_state=355248320),\n",
       " DecisionTreeClassifier(max_features='auto', random_state=1554394586),\n",
       " DecisionTreeClassifier(max_features='auto', random_state=1739486711),\n",
       " DecisionTreeClassifier(max_features='auto', random_state=915243070),\n",
       " DecisionTreeClassifier(max_features='auto', random_state=1589690590),\n",
       " DecisionTreeClassifier(max_features='auto', random_state=562237796),\n",
       " DecisionTreeClassifier(max_features='auto', random_state=418853657),\n",
       " DecisionTreeClassifier(max_features='auto', random_state=1813260601),\n",
       " DecisionTreeClassifier(max_features='auto', random_state=453660422),\n",
       " DecisionTreeClassifier(max_features='auto', random_state=891127777),\n",
       " DecisionTreeClassifier(max_features='auto', random_state=1104490335),\n",
       " DecisionTreeClassifier(max_features='auto', random_state=695104335),\n",
       " DecisionTreeClassifier(max_features='auto', random_state=1709846554),\n",
       " DecisionTreeClassifier(max_features='auto', random_state=1163251174),\n",
       " DecisionTreeClassifier(max_features='auto', random_state=1977388663),\n",
       " DecisionTreeClassifier(max_features='auto', random_state=2040519296),\n",
       " DecisionTreeClassifier(max_features='auto', random_state=1270156441),\n",
       " DecisionTreeClassifier(max_features='auto', random_state=1271417961),\n",
       " DecisionTreeClassifier(max_features='auto', random_state=158090330),\n",
       " DecisionTreeClassifier(max_features='auto', random_state=1222506110),\n",
       " DecisionTreeClassifier(max_features='auto', random_state=898889247),\n",
       " DecisionTreeClassifier(max_features='auto', random_state=162030588),\n",
       " DecisionTreeClassifier(max_features='auto', random_state=2036640306),\n",
       " DecisionTreeClassifier(max_features='auto', random_state=676222877),\n",
       " DecisionTreeClassifier(max_features='auto', random_state=1858191550),\n",
       " DecisionTreeClassifier(max_features='auto', random_state=134265583),\n",
       " DecisionTreeClassifier(max_features='auto', random_state=1769854722),\n",
       " DecisionTreeClassifier(max_features='auto', random_state=1668238093),\n",
       " DecisionTreeClassifier(max_features='auto', random_state=1984719933),\n",
       " DecisionTreeClassifier(max_features='auto', random_state=865182695),\n",
       " DecisionTreeClassifier(max_features='auto', random_state=741229817),\n",
       " DecisionTreeClassifier(max_features='auto', random_state=1790129320),\n",
       " DecisionTreeClassifier(max_features='auto', random_state=1876006944),\n",
       " DecisionTreeClassifier(max_features='auto', random_state=1250703131),\n",
       " DecisionTreeClassifier(max_features='auto', random_state=525172562),\n",
       " DecisionTreeClassifier(max_features='auto', random_state=742207743),\n",
       " DecisionTreeClassifier(max_features='auto', random_state=1212703289),\n",
       " DecisionTreeClassifier(max_features='auto', random_state=414462243),\n",
       " DecisionTreeClassifier(max_features='auto', random_state=1598981024),\n",
       " DecisionTreeClassifier(max_features='auto', random_state=2136322674),\n",
       " DecisionTreeClassifier(max_features='auto', random_state=879615039),\n",
       " DecisionTreeClassifier(max_features='auto', random_state=983537125),\n",
       " DecisionTreeClassifier(max_features='auto', random_state=1546758508),\n",
       " DecisionTreeClassifier(max_features='auto', random_state=1044482652),\n",
       " DecisionTreeClassifier(max_features='auto', random_state=892848572),\n",
       " DecisionTreeClassifier(max_features='auto', random_state=137597537),\n",
       " DecisionTreeClassifier(max_features='auto', random_state=393664553),\n",
       " DecisionTreeClassifier(max_features='auto', random_state=1368662458),\n",
       " DecisionTreeClassifier(max_features='auto', random_state=1601279648),\n",
       " DecisionTreeClassifier(max_features='auto', random_state=740235069),\n",
       " DecisionTreeClassifier(max_features='auto', random_state=1518350809),\n",
       " DecisionTreeClassifier(max_features='auto', random_state=2062980394),\n",
       " DecisionTreeClassifier(max_features='auto', random_state=2144524648),\n",
       " DecisionTreeClassifier(max_features='auto', random_state=117000044),\n",
       " DecisionTreeClassifier(max_features='auto', random_state=2115978637),\n",
       " DecisionTreeClassifier(max_features='auto', random_state=1092422859),\n",
       " DecisionTreeClassifier(max_features='auto', random_state=21420730),\n",
       " DecisionTreeClassifier(max_features='auto', random_state=1241647946),\n",
       " DecisionTreeClassifier(max_features='auto', random_state=348745347),\n",
       " DecisionTreeClassifier(max_features='auto', random_state=1910427723),\n",
       " DecisionTreeClassifier(max_features='auto', random_state=230982178),\n",
       " DecisionTreeClassifier(max_features='auto', random_state=598678137),\n",
       " DecisionTreeClassifier(max_features='auto', random_state=1693006503),\n",
       " DecisionTreeClassifier(max_features='auto', random_state=1943945441),\n",
       " DecisionTreeClassifier(max_features='auto', random_state=640414322),\n",
       " DecisionTreeClassifier(max_features='auto', random_state=2078391018),\n",
       " DecisionTreeClassifier(max_features='auto', random_state=1325895312),\n",
       " DecisionTreeClassifier(max_features='auto', random_state=2064850887),\n",
       " DecisionTreeClassifier(max_features='auto', random_state=795242173),\n",
       " DecisionTreeClassifier(max_features='auto', random_state=373980548),\n",
       " DecisionTreeClassifier(max_features='auto', random_state=1202210587),\n",
       " DecisionTreeClassifier(max_features='auto', random_state=1176532243),\n",
       " DecisionTreeClassifier(max_features='auto', random_state=608452488),\n",
       " DecisionTreeClassifier(max_features='auto', random_state=500267726),\n",
       " DecisionTreeClassifier(max_features='auto', random_state=284238256),\n",
       " DecisionTreeClassifier(max_features='auto', random_state=73504666),\n",
       " DecisionTreeClassifier(max_features='auto', random_state=2088986034),\n",
       " DecisionTreeClassifier(max_features='auto', random_state=455488991),\n",
       " DecisionTreeClassifier(max_features='auto', random_state=1921388153),\n",
       " DecisionTreeClassifier(max_features='auto', random_state=193001440),\n",
       " DecisionTreeClassifier(max_features='auto', random_state=1147359325),\n",
       " DecisionTreeClassifier(max_features='auto', random_state=1108593508),\n",
       " DecisionTreeClassifier(max_features='auto', random_state=201126481),\n",
       " DecisionTreeClassifier(max_features='auto', random_state=1015630352),\n",
       " DecisionTreeClassifier(max_features='auto', random_state=10355933),\n",
       " DecisionTreeClassifier(max_features='auto', random_state=1974637808),\n",
       " DecisionTreeClassifier(max_features='auto', random_state=2084407077),\n",
       " DecisionTreeClassifier(max_features='auto', random_state=224398289),\n",
       " DecisionTreeClassifier(max_features='auto', random_state=796775247),\n",
       " DecisionTreeClassifier(max_features='auto', random_state=405066228),\n",
       " DecisionTreeClassifier(max_features='auto', random_state=1695565700),\n",
       " DecisionTreeClassifier(max_features='auto', random_state=630381092),\n",
       " DecisionTreeClassifier(max_features='auto', random_state=614719945),\n",
       " DecisionTreeClassifier(max_features='auto', random_state=1707404059),\n",
       " DecisionTreeClassifier(max_features='auto', random_state=285471873),\n",
       " DecisionTreeClassifier(max_features='auto', random_state=697868236),\n",
       " DecisionTreeClassifier(max_features='auto', random_state=1979728516),\n",
       " DecisionTreeClassifier(max_features='auto', random_state=694876325),\n",
       " DecisionTreeClassifier(max_features='auto', random_state=1360529410),\n",
       " DecisionTreeClassifier(max_features='auto', random_state=1917498454),\n",
       " DecisionTreeClassifier(max_features='auto', random_state=1202181038),\n",
       " DecisionTreeClassifier(max_features='auto', random_state=1449445180),\n",
       " DecisionTreeClassifier(max_features='auto', random_state=153877373),\n",
       " DecisionTreeClassifier(max_features='auto', random_state=332855400),\n",
       " DecisionTreeClassifier(max_features='auto', random_state=1015104929),\n",
       " DecisionTreeClassifier(max_features='auto', random_state=43120142),\n",
       " DecisionTreeClassifier(max_features='auto', random_state=105978282),\n",
       " DecisionTreeClassifier(max_features='auto', random_state=1919305190),\n",
       " DecisionTreeClassifier(max_features='auto', random_state=421088977),\n",
       " DecisionTreeClassifier(max_features='auto', random_state=612107894),\n",
       " DecisionTreeClassifier(max_features='auto', random_state=1209557318),\n",
       " DecisionTreeClassifier(max_features='auto', random_state=402273546),\n",
       " DecisionTreeClassifier(max_features='auto', random_state=1414999658),\n",
       " DecisionTreeClassifier(max_features='auto', random_state=804042778),\n",
       " DecisionTreeClassifier(max_features='auto', random_state=37391661),\n",
       " DecisionTreeClassifier(max_features='auto', random_state=962580008),\n",
       " DecisionTreeClassifier(max_features='auto', random_state=1486966802),\n",
       " DecisionTreeClassifier(max_features='auto', random_state=2033209781),\n",
       " DecisionTreeClassifier(max_features='auto', random_state=1997377778),\n",
       " DecisionTreeClassifier(max_features='auto', random_state=1171418745),\n",
       " DecisionTreeClassifier(max_features='auto', random_state=846985315),\n",
       " DecisionTreeClassifier(max_features='auto', random_state=1325770197),\n",
       " DecisionTreeClassifier(max_features='auto', random_state=152996307),\n",
       " DecisionTreeClassifier(max_features='auto', random_state=93734693),\n",
       " DecisionTreeClassifier(max_features='auto', random_state=753470248),\n",
       " DecisionTreeClassifier(max_features='auto', random_state=605021608),\n",
       " DecisionTreeClassifier(max_features='auto', random_state=706834411),\n",
       " DecisionTreeClassifier(max_features='auto', random_state=1788747956),\n",
       " DecisionTreeClassifier(max_features='auto', random_state=1093974812),\n",
       " DecisionTreeClassifier(max_features='auto', random_state=1674037663),\n",
       " DecisionTreeClassifier(max_features='auto', random_state=1760103383),\n",
       " DecisionTreeClassifier(max_features='auto', random_state=1968241034),\n",
       " DecisionTreeClassifier(max_features='auto', random_state=2108664406),\n",
       " DecisionTreeClassifier(max_features='auto', random_state=1968619036),\n",
       " DecisionTreeClassifier(max_features='auto', random_state=995100971),\n",
       " DecisionTreeClassifier(max_features='auto', random_state=221356145),\n",
       " DecisionTreeClassifier(max_features='auto', random_state=1469555142),\n",
       " DecisionTreeClassifier(max_features='auto', random_state=338986446),\n",
       " DecisionTreeClassifier(max_features='auto', random_state=1665392233),\n",
       " DecisionTreeClassifier(max_features='auto', random_state=918040429),\n",
       " DecisionTreeClassifier(max_features='auto', random_state=161296181),\n",
       " DecisionTreeClassifier(max_features='auto', random_state=1768763042),\n",
       " DecisionTreeClassifier(max_features='auto', random_state=2099438290),\n",
       " DecisionTreeClassifier(max_features='auto', random_state=2030771809),\n",
       " DecisionTreeClassifier(max_features='auto', random_state=1547560966),\n",
       " DecisionTreeClassifier(max_features='auto', random_state=458098618),\n",
       " DecisionTreeClassifier(max_features='auto', random_state=290220363),\n",
       " DecisionTreeClassifier(max_features='auto', random_state=17653782),\n",
       " DecisionTreeClassifier(max_features='auto', random_state=1533364186),\n",
       " DecisionTreeClassifier(max_features='auto', random_state=1061763487),\n",
       " DecisionTreeClassifier(max_features='auto', random_state=2098244423),\n",
       " DecisionTreeClassifier(max_features='auto', random_state=273144470),\n",
       " DecisionTreeClassifier(max_features='auto', random_state=1829724671),\n",
       " DecisionTreeClassifier(max_features='auto', random_state=1774884242),\n",
       " DecisionTreeClassifier(max_features='auto', random_state=1267993066),\n",
       " DecisionTreeClassifier(max_features='auto', random_state=2056352525),\n",
       " DecisionTreeClassifier(max_features='auto', random_state=1308619673),\n",
       " DecisionTreeClassifier(max_features='auto', random_state=727364463),\n",
       " DecisionTreeClassifier(max_features='auto', random_state=220989218),\n",
       " DecisionTreeClassifier(max_features='auto', random_state=776814796),\n",
       " DecisionTreeClassifier(max_features='auto', random_state=2141864352),\n",
       " DecisionTreeClassifier(max_features='auto', random_state=1933288107),\n",
       " DecisionTreeClassifier(max_features='auto', random_state=401325117),\n",
       " DecisionTreeClassifier(max_features='auto', random_state=1097504681),\n",
       " DecisionTreeClassifier(max_features='auto', random_state=369100940),\n",
       " DecisionTreeClassifier(max_features='auto', random_state=1585449005),\n",
       " DecisionTreeClassifier(max_features='auto', random_state=1116337364),\n",
       " DecisionTreeClassifier(max_features='auto', random_state=1688459409),\n",
       " DecisionTreeClassifier(max_features='auto', random_state=1270900357),\n",
       " DecisionTreeClassifier(max_features='auto', random_state=895459683),\n",
       " DecisionTreeClassifier(max_features='auto', random_state=2087476346),\n",
       " DecisionTreeClassifier(max_features='auto', random_state=199768474),\n",
       " DecisionTreeClassifier(max_features='auto', random_state=1487603190),\n",
       " DecisionTreeClassifier(max_features='auto', random_state=261181420),\n",
       " DecisionTreeClassifier(max_features='auto', random_state=2023296213),\n",
       " DecisionTreeClassifier(max_features='auto', random_state=1348843385),\n",
       " DecisionTreeClassifier(max_features='auto', random_state=1764075311),\n",
       " DecisionTreeClassifier(max_features='auto', random_state=527687438),\n",
       " DecisionTreeClassifier(max_features='auto', random_state=812351401),\n",
       " DecisionTreeClassifier(max_features='auto', random_state=1325213780),\n",
       " DecisionTreeClassifier(max_features='auto', random_state=1399409871),\n",
       " DecisionTreeClassifier(max_features='auto', random_state=1610595571),\n",
       " DecisionTreeClassifier(max_features='auto', random_state=249769167),\n",
       " DecisionTreeClassifier(max_features='auto', random_state=395259151),\n",
       " DecisionTreeClassifier(max_features='auto', random_state=156207999),\n",
       " DecisionTreeClassifier(max_features='auto', random_state=631053795),\n",
       " DecisionTreeClassifier(max_features='auto', random_state=148656442),\n",
       " DecisionTreeClassifier(max_features='auto', random_state=609462240),\n",
       " DecisionTreeClassifier(max_features='auto', random_state=1624070830),\n",
       " DecisionTreeClassifier(max_features='auto', random_state=133779772),\n",
       " DecisionTreeClassifier(max_features='auto', random_state=484187170),\n",
       " DecisionTreeClassifier(max_features='auto', random_state=1006683223),\n",
       " DecisionTreeClassifier(max_features='auto', random_state=646419888),\n",
       " DecisionTreeClassifier(max_features='auto', random_state=1703986193),\n",
       " DecisionTreeClassifier(max_features='auto', random_state=14097830),\n",
       " DecisionTreeClassifier(max_features='auto', random_state=497190631),\n",
       " DecisionTreeClassifier(max_features='auto', random_state=895739884),\n",
       " DecisionTreeClassifier(max_features='auto', random_state=1159433298),\n",
       " DecisionTreeClassifier(max_features='auto', random_state=986305926),\n",
       " DecisionTreeClassifier(max_features='auto', random_state=10903607),\n",
       " DecisionTreeClassifier(max_features='auto', random_state=1547534084),\n",
       " DecisionTreeClassifier(max_features='auto', random_state=1819357441),\n",
       " DecisionTreeClassifier(max_features='auto', random_state=462997344),\n",
       " DecisionTreeClassifier(max_features='auto', random_state=845595328),\n",
       " DecisionTreeClassifier(max_features='auto', random_state=2115899742),\n",
       " DecisionTreeClassifier(max_features='auto', random_state=543707832),\n",
       " DecisionTreeClassifier(max_features='auto', random_state=1567713445),\n",
       " DecisionTreeClassifier(max_features='auto', random_state=1683406952),\n",
       " DecisionTreeClassifier(max_features='auto', random_state=394977142),\n",
       " DecisionTreeClassifier(max_features='auto', random_state=1257354058),\n",
       " DecisionTreeClassifier(max_features='auto', random_state=279003665),\n",
       " DecisionTreeClassifier(max_features='auto', random_state=2080425004),\n",
       " DecisionTreeClassifier(max_features='auto', random_state=1695585584),\n",
       " DecisionTreeClassifier(max_features='auto', random_state=674573249),\n",
       " DecisionTreeClassifier(max_features='auto', random_state=826069816),\n",
       " DecisionTreeClassifier(max_features='auto', random_state=465336983),\n",
       " DecisionTreeClassifier(max_features='auto', random_state=1752631333),\n",
       " DecisionTreeClassifier(max_features='auto', random_state=713716825),\n",
       " DecisionTreeClassifier(max_features='auto', random_state=1852043882),\n",
       " DecisionTreeClassifier(max_features='auto', random_state=2003985330),\n",
       " DecisionTreeClassifier(max_features='auto', random_state=280147383),\n",
       " DecisionTreeClassifier(max_features='auto', random_state=1503327231),\n",
       " DecisionTreeClassifier(max_features='auto', random_state=1491574846),\n",
       " DecisionTreeClassifier(max_features='auto', random_state=1912588808),\n",
       " DecisionTreeClassifier(max_features='auto', random_state=991018946),\n",
       " DecisionTreeClassifier(max_features='auto', random_state=1644741146),\n",
       " DecisionTreeClassifier(max_features='auto', random_state=998831262),\n",
       " DecisionTreeClassifier(max_features='auto', random_state=1301460560),\n",
       " DecisionTreeClassifier(max_features='auto', random_state=986767781),\n",
       " DecisionTreeClassifier(max_features='auto', random_state=1562161923),\n",
       " DecisionTreeClassifier(max_features='auto', random_state=1169298417),\n",
       " DecisionTreeClassifier(max_features='auto', random_state=2069116854),\n",
       " DecisionTreeClassifier(max_features='auto', random_state=704525331),\n",
       " DecisionTreeClassifier(max_features='auto', random_state=26234635),\n",
       " DecisionTreeClassifier(max_features='auto', random_state=2090943655),\n",
       " DecisionTreeClassifier(max_features='auto', random_state=1168544912),\n",
       " DecisionTreeClassifier(max_features='auto', random_state=2033094609),\n",
       " DecisionTreeClassifier(max_features='auto', random_state=152278559),\n",
       " DecisionTreeClassifier(max_features='auto', random_state=645514652),\n",
       " ...]"
      ]
     },
     "execution_count": 54,
     "metadata": {},
     "output_type": "execute_result"
    }
   ],
   "source": [
    "rf.estimators_"
   ]
  },
  {
   "cell_type": "code",
   "execution_count": null,
   "metadata": {},
   "outputs": [],
   "source": [
    "fig, axes = plt.subplots(1, len(rf.estimators_), figsize=(20, 5))\n",
    "for i, tree in enumerate(rf.estimators_):\n",
    "    plot_tree(tree, ax=axes[i], fontsize=12)"
   ]
  },
  {
   "cell_type": "code",
   "execution_count": null,
   "metadata": {},
   "outputs": [],
   "source": [
    "# Et merci Luc pour cette semaine !"
   ]
  }
 ],
 "metadata": {
  "kernelspec": {
   "display_name": "Python 3",
   "language": "python",
   "name": "python3"
  },
  "language_info": {
   "codemirror_mode": {
    "name": "ipython",
    "version": 3
   },
   "file_extension": ".py",
   "mimetype": "text/x-python",
   "name": "python",
   "nbconvert_exporter": "python",
   "pygments_lexer": "ipython3",
   "version": "3.8.3"
  }
 },
 "nbformat": 4,
 "nbformat_minor": 4
}
